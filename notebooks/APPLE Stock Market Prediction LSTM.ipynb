{
 "cells": [
  {
   "cell_type": "code",
   "execution_count": 1,
   "metadata": {
    "id": "rxKN47mbme5R"
   },
   "outputs": [],
   "source": [
    "import numpy as np\n",
    "import pandas as pd\n",
    "import matplotlib.pyplot as plt\n",
    "from sklearn.preprocessing import MinMaxScaler\n",
    "from keras.models import Sequential\n",
    "from keras.layers import Dense, LSTM\n",
    "from keras.preprocessing.sequence import TimeseriesGenerator\n",
    "from sklearn.metrics import r2_score\n",
    "from keras import callbacks\n",
    "import pickle"
   ]
  },
  {
   "cell_type": "code",
   "execution_count": 2,
   "metadata": {
    "id": "KQRp1QmFn_5t"
   },
   "outputs": [],
   "source": [
    "data = pd.read_csv(\"HistoricalQuotes.csv\", parse_dates = True)"
   ]
  },
  {
   "cell_type": "code",
   "execution_count": 3,
   "metadata": {
    "id": "wiQXxMPTynvx"
   },
   "outputs": [],
   "source": [
    "data.rename(columns = {' Close/Last' : 'Close', ' Volume' : 'Volume', ' Open' : 'Open', ' High' : 'High', ' Low' : 'Low'}, inplace = True)"
   ]
  },
  {
   "cell_type": "code",
   "execution_count": 4,
   "metadata": {},
   "outputs": [],
   "source": [
    "data = data.loc[::-1].reset_index(drop = True)"
   ]
  },
  {
   "cell_type": "code",
   "execution_count": 5,
   "metadata": {
    "colab": {
     "base_uri": "https://localhost:8080/",
     "height": 237
    },
    "executionInfo": {
     "elapsed": 74,
     "status": "ok",
     "timestamp": 1684871022046,
     "user": {
      "displayName": "AMRITHA P P",
      "userId": "01855715462093467271"
     },
     "user_tz": -330
    },
    "id": "Ui5I8q8Hsndg",
    "outputId": "ad027694-3903-4357-d16b-c543266c4c8d"
   },
   "outputs": [
    {
     "data": {
      "text/html": [
       "<div>\n",
       "<style scoped>\n",
       "    .dataframe tbody tr th:only-of-type {\n",
       "        vertical-align: middle;\n",
       "    }\n",
       "\n",
       "    .dataframe tbody tr th {\n",
       "        vertical-align: top;\n",
       "    }\n",
       "\n",
       "    .dataframe thead th {\n",
       "        text-align: right;\n",
       "    }\n",
       "</style>\n",
       "<table border=\"1\" class=\"dataframe\">\n",
       "  <thead>\n",
       "    <tr style=\"text-align: right;\">\n",
       "      <th></th>\n",
       "      <th>Date</th>\n",
       "      <th>Close</th>\n",
       "      <th>Volume</th>\n",
       "      <th>Open</th>\n",
       "      <th>High</th>\n",
       "      <th>Low</th>\n",
       "    </tr>\n",
       "  </thead>\n",
       "  <tbody>\n",
       "    <tr>\n",
       "      <th>0</th>\n",
       "      <td>03/01/2010</td>\n",
       "      <td>$29.8557</td>\n",
       "      <td>137312041</td>\n",
       "      <td>$29.3928</td>\n",
       "      <td>$29.9286</td>\n",
       "      <td>$29.35</td>\n",
       "    </tr>\n",
       "    <tr>\n",
       "      <th>1</th>\n",
       "      <td>03/02/2010</td>\n",
       "      <td>$29.8357</td>\n",
       "      <td>141486282</td>\n",
       "      <td>$29.99</td>\n",
       "      <td>$30.1186</td>\n",
       "      <td>$29.6771</td>\n",
       "    </tr>\n",
       "    <tr>\n",
       "      <th>2</th>\n",
       "      <td>03/03/2010</td>\n",
       "      <td>$29.9043</td>\n",
       "      <td>92846488</td>\n",
       "      <td>$29.8486</td>\n",
       "      <td>$29.9814</td>\n",
       "      <td>$29.7057</td>\n",
       "    </tr>\n",
       "    <tr>\n",
       "      <th>3</th>\n",
       "      <td>03/04/2010</td>\n",
       "      <td>$30.1014</td>\n",
       "      <td>89591907</td>\n",
       "      <td>$29.8971</td>\n",
       "      <td>$30.1314</td>\n",
       "      <td>$29.8043</td>\n",
       "    </tr>\n",
       "    <tr>\n",
       "      <th>4</th>\n",
       "      <td>03/05/2010</td>\n",
       "      <td>$31.2786</td>\n",
       "      <td>224647427</td>\n",
       "      <td>$30.7057</td>\n",
       "      <td>$31.3857</td>\n",
       "      <td>$30.6614</td>\n",
       "    </tr>\n",
       "  </tbody>\n",
       "</table>\n",
       "</div>"
      ],
      "text/plain": [
       "         Date      Close     Volume       Open       High        Low\n",
       "0  03/01/2010   $29.8557  137312041   $29.3928   $29.9286     $29.35\n",
       "1  03/02/2010   $29.8357  141486282     $29.99   $30.1186   $29.6771\n",
       "2  03/03/2010   $29.9043   92846488   $29.8486   $29.9814   $29.7057\n",
       "3  03/04/2010   $30.1014   89591907   $29.8971   $30.1314   $29.8043\n",
       "4  03/05/2010   $31.2786  224647427   $30.7057   $31.3857   $30.6614"
      ]
     },
     "execution_count": 5,
     "metadata": {},
     "output_type": "execute_result"
    }
   ],
   "source": [
    "data.head(5)"
   ]
  },
  {
   "cell_type": "code",
   "execution_count": 6,
   "metadata": {
    "id": "xpoaevi8sSeP"
   },
   "outputs": [],
   "source": [
    "def convert(x):\n",
    "  y = x[2:]\n",
    "  return float(y)"
   ]
  },
  {
   "cell_type": "code",
   "execution_count": 7,
   "metadata": {
    "id": "Oao3C15NobN0"
   },
   "outputs": [],
   "source": [
    "data['Close'] = data['Close'].apply(convert)\n",
    "data['Open'] = data['Open'].apply(convert)\n",
    "data['High'] = data['High'].apply(convert)\n",
    "data['Low'] = data['Low'].apply(convert)"
   ]
  },
  {
   "cell_type": "code",
   "execution_count": 8,
   "metadata": {
    "colab": {
     "base_uri": "https://localhost:8080/",
     "height": 237
    },
    "executionInfo": {
     "elapsed": 42,
     "status": "ok",
     "timestamp": 1684871022048,
     "user": {
      "displayName": "AMRITHA P P",
      "userId": "01855715462093467271"
     },
     "user_tz": -330
    },
    "id": "8P23uAkys5BG",
    "outputId": "bd4012fe-0a94-4694-9b8a-3caf68f1933f"
   },
   "outputs": [
    {
     "data": {
      "text/html": [
       "<div>\n",
       "<style scoped>\n",
       "    .dataframe tbody tr th:only-of-type {\n",
       "        vertical-align: middle;\n",
       "    }\n",
       "\n",
       "    .dataframe tbody tr th {\n",
       "        vertical-align: top;\n",
       "    }\n",
       "\n",
       "    .dataframe thead th {\n",
       "        text-align: right;\n",
       "    }\n",
       "</style>\n",
       "<table border=\"1\" class=\"dataframe\">\n",
       "  <thead>\n",
       "    <tr style=\"text-align: right;\">\n",
       "      <th></th>\n",
       "      <th>Date</th>\n",
       "      <th>Close</th>\n",
       "      <th>Volume</th>\n",
       "      <th>Open</th>\n",
       "      <th>High</th>\n",
       "      <th>Low</th>\n",
       "    </tr>\n",
       "  </thead>\n",
       "  <tbody>\n",
       "    <tr>\n",
       "      <th>0</th>\n",
       "      <td>03/01/2010</td>\n",
       "      <td>29.8557</td>\n",
       "      <td>137312041</td>\n",
       "      <td>29.3928</td>\n",
       "      <td>29.9286</td>\n",
       "      <td>29.3500</td>\n",
       "    </tr>\n",
       "    <tr>\n",
       "      <th>1</th>\n",
       "      <td>03/02/2010</td>\n",
       "      <td>29.8357</td>\n",
       "      <td>141486282</td>\n",
       "      <td>29.9900</td>\n",
       "      <td>30.1186</td>\n",
       "      <td>29.6771</td>\n",
       "    </tr>\n",
       "    <tr>\n",
       "      <th>2</th>\n",
       "      <td>03/03/2010</td>\n",
       "      <td>29.9043</td>\n",
       "      <td>92846488</td>\n",
       "      <td>29.8486</td>\n",
       "      <td>29.9814</td>\n",
       "      <td>29.7057</td>\n",
       "    </tr>\n",
       "    <tr>\n",
       "      <th>3</th>\n",
       "      <td>03/04/2010</td>\n",
       "      <td>30.1014</td>\n",
       "      <td>89591907</td>\n",
       "      <td>29.8971</td>\n",
       "      <td>30.1314</td>\n",
       "      <td>29.8043</td>\n",
       "    </tr>\n",
       "    <tr>\n",
       "      <th>4</th>\n",
       "      <td>03/05/2010</td>\n",
       "      <td>31.2786</td>\n",
       "      <td>224647427</td>\n",
       "      <td>30.7057</td>\n",
       "      <td>31.3857</td>\n",
       "      <td>30.6614</td>\n",
       "    </tr>\n",
       "  </tbody>\n",
       "</table>\n",
       "</div>"
      ],
      "text/plain": [
       "         Date    Close     Volume     Open     High      Low\n",
       "0  03/01/2010  29.8557  137312041  29.3928  29.9286  29.3500\n",
       "1  03/02/2010  29.8357  141486282  29.9900  30.1186  29.6771\n",
       "2  03/03/2010  29.9043   92846488  29.8486  29.9814  29.7057\n",
       "3  03/04/2010  30.1014   89591907  29.8971  30.1314  29.8043\n",
       "4  03/05/2010  31.2786  224647427  30.7057  31.3857  30.6614"
      ]
     },
     "execution_count": 8,
     "metadata": {},
     "output_type": "execute_result"
    }
   ],
   "source": [
    "data.head(5)"
   ]
  },
  {
   "cell_type": "code",
   "execution_count": 9,
   "metadata": {
    "colab": {
     "base_uri": "https://localhost:8080/",
     "height": 863
    },
    "executionInfo": {
     "elapsed": 2930,
     "status": "ok",
     "timestamp": 1684871024939,
     "user": {
      "displayName": "AMRITHA P P",
      "userId": "01855715462093467271"
     },
     "user_tz": -330
    },
    "id": "rH8WFekHoHmU",
    "outputId": "26106564-2fc3-4e66-8759-5cf6bf2a2f6b"
   },
   "outputs": [
    {
     "data": {
      "text/plain": [
       "array([[<AxesSubplot:>],\n",
       "       [<AxesSubplot:>],\n",
       "       [<AxesSubplot:>],\n",
       "       [<AxesSubplot:>],\n",
       "       [<AxesSubplot:>]], dtype=object)"
      ]
     },
     "execution_count": 9,
     "metadata": {},
     "output_type": "execute_result"
    },
    {
     "data": {
      "image/png": "[encoded data removed]",
      "text/plain": [
       "<Figure size 1000x1000 with 5 Axes>"
      ]
     },
     "metadata": {},
     "output_type": "display_data"
    }
   ],
   "source": [
    "data.plot(subplots = True, layout = (5,1), figsize = (10, 10))"
   ]
  },
  {
   "cell_type": "code",
   "execution_count": 10,
   "metadata": {
    "colab": {
     "base_uri": "https://localhost:8080/"
    },
    "executionInfo": {
     "elapsed": 40,
     "status": "ok",
     "timestamp": 1684871024941,
     "user": {
      "displayName": "AMRITHA P P",
      "userId": "01855715462093467271"
     },
     "user_tz": -330
    },
    "id": "0xhbR16ooOGJ",
    "outputId": "9730ac0a-0a73-4387-e7ab-38a742f77ee7"
   },
   "outputs": [
    {
     "data": {
      "text/plain": [
       "2518"
      ]
     },
     "execution_count": 10,
     "metadata": {},
     "output_type": "execute_result"
    }
   ],
   "source": [
    "len = data.shape[0]\n",
    "end = int(0.8 * len)\n",
    "len"
   ]
  },
  {
   "cell_type": "code",
   "execution_count": 11,
   "metadata": {
    "id": "_lR4AnkZtTXV"
   },
   "outputs": [],
   "source": [
    "newdata = data.iloc[:, 1]"
   ]
  },
  {
   "cell_type": "code",
   "execution_count": 12,
   "metadata": {
    "id": "hWMdPCjhtmZz"
   },
   "outputs": [],
   "source": [
    "X_train, y_train, X_test, y_test = [], [], [] , []"
   ]
  },
  {
   "cell_type": "code",
   "execution_count": 13,
   "metadata": {
    "id": "dPaJ-7zatvvY"
   },
   "outputs": [],
   "source": [
    "T = 10"
   ]
  },
  {
   "cell_type": "code",
   "execution_count": 14,
   "metadata": {
    "id": "fDefI3ZOXsmF"
   },
   "outputs": [],
   "source": [
    "for i in range(end):\n",
    "  X_train.append(newdata[i:i+T])\n",
    "  y_train.append(newdata[i+T])\n",
    "X_train, y_train = np.array(X_train).reshape(end, T, 1), np.array(y_train).reshape(-1, 1)"
   ]
  },
  {
   "cell_type": "code",
   "execution_count": 15,
   "metadata": {
    "id": "9YartnMIuM7K"
   },
   "outputs": [],
   "source": [
    "for i in range(end - T, len - T):\n",
    "  X_test.append(newdata[i:i+T])\n",
    "  y_test.append(newdata[i+T])\n",
    "X_test, y_test = np.array(X_test).reshape(len-end, T, 1), np.array(y_test).reshape(-1, 1)"
   ]
  },
  {
   "cell_type": "code",
   "execution_count": 16,
   "metadata": {
    "colab": {
     "base_uri": "https://localhost:8080/"
    },
    "executionInfo": {
     "elapsed": 786,
     "status": "ok",
     "timestamp": 1684871025703,
     "user": {
      "displayName": "AMRITHA P P",
      "userId": "01855715462093467271"
     },
     "user_tz": -330
    },
    "id": "jQou7fuvuvB5",
    "outputId": "aaea108e-6065-48d2-eaac-f435b5466fec"
   },
   "outputs": [
    {
     "name": "stdout",
     "output_type": "stream",
     "text": [
      "(2014, 10, 1) (2014, 1) (504, 10, 1) (504, 1)\n"
     ]
    }
   ],
   "source": [
    "print(X_train.shape, y_train.shape, X_test.shape, y_test.shape)"
   ]
  },
  {
   "cell_type": "code",
   "execution_count": 17,
   "metadata": {
    "colab": {
     "base_uri": "https://localhost:8080/"
    },
    "executionInfo": {
     "elapsed": 12,
     "status": "ok",
     "timestamp": 1684871124868,
     "user": {
      "displayName": "AMRITHA P P",
      "userId": "01855715462093467271"
     },
     "user_tz": -330
    },
    "id": "NrTeDGxgu2LE",
    "outputId": "1bf236ea-3c4b-4f7c-d632-2bd7f777b11f"
   },
   "outputs": [],
   "source": [
    "N = X_train.shape[2]\n",
    "model = Sequential()\n",
    "model.add(LSTM(units=50, return_sequences=True, activation = 'relu', input_shape = (T,N)))\n",
    "model.add(LSTM(50, activation = 'relu'))\n",
    "model.add(Dense(64, activation = 'linear'))\n",
    "model.add(Dense(32, activation = 'linear'))\n",
    "model.add(Dense(1, activation = 'relu'))"
   ]
  },
  {
   "cell_type": "code",
   "execution_count": 18,
   "metadata": {
    "id": "wgFzh91WzJPa"
   },
   "outputs": [],
   "source": [
    "model.compile(optimizer = 'adam', loss = 'mse', metrics = ['accuracy'])"
   ]
  },
  {
   "cell_type": "code",
   "execution_count": 19,
   "metadata": {
    "id": "ZWULTY5xW6Gg"
   },
   "outputs": [],
   "source": [
    "callback = callbacks.EarlyStopping(monitor='loss', patience=3, restore_best_weights = True)"
   ]
  },
  {
   "cell_type": "code",
   "execution_count": 20,
   "metadata": {
    "colab": {
     "base_uri": "https://localhost:8080/"
    },
    "executionInfo": {
     "elapsed": 40134,
     "status": "ok",
     "timestamp": 1684871165338,
     "user": {
      "displayName": "AMRITHA P P",
      "userId": "01855715462093467271"
     },
     "user_tz": -330
    },
    "id": "fqX-KpCK-Bz7",
    "outputId": "963c22fc-71cf-41a4-8d24-c08e135b7019"
   },
   "outputs": [
    {
     "name": "stdout",
     "output_type": "stream",
     "text": [
      "Epoch 1/50\n",
      "63/63 [==============================] - 9s 16ms/step - loss: 105.5989 - accuracy: 0.0000e+00\n",
      "Epoch 2/50\n",
      "63/63 [==============================] - 1s 16ms/step - loss: 7.2360 - accuracy: 0.0000e+00\n",
      "Epoch 3/50\n",
      "63/63 [==============================] - 1s 16ms/step - loss: 6.7480 - accuracy: 0.0000e+00\n",
      "Epoch 4/50\n",
      "63/63 [==============================] - 1s 16ms/step - loss: 4.3192 - accuracy: 0.0000e+00\n",
      "Epoch 5/50\n",
      "63/63 [==============================] - 1s 15ms/step - loss: 4.8084 - accuracy: 0.0000e+00\n",
      "Epoch 6/50\n",
      "63/63 [==============================] - 1s 16ms/step - loss: 4.8912 - accuracy: 0.0000e+00\n",
      "Epoch 7/50\n",
      "63/63 [==============================] - 1s 16ms/step - loss: 3.5949 - accuracy: 0.0000e+00\n",
      "Epoch 8/50\n",
      "63/63 [==============================] - 1s 15ms/step - loss: 3.4481 - accuracy: 0.0000e+00\n",
      "Epoch 9/50\n",
      "63/63 [==============================] - 1s 16ms/step - loss: 2.9163 - accuracy: 0.0000e+00\n",
      "Epoch 10/50\n",
      "63/63 [==============================] - 1s 16ms/step - loss: 3.2376 - accuracy: 0.0000e+00\n",
      "Epoch 11/50\n",
      "63/63 [==============================] - 1s 16ms/step - loss: 2.8238 - accuracy: 0.0000e+00\n",
      "Epoch 12/50\n",
      "63/63 [==============================] - 1s 16ms/step - loss: 3.2831 - accuracy: 0.0000e+00\n",
      "Epoch 13/50\n",
      "63/63 [==============================] - 1s 16ms/step - loss: 2.8138 - accuracy: 0.0000e+00\n",
      "Epoch 14/50\n",
      "63/63 [==============================] - 1s 16ms/step - loss: 3.3555 - accuracy: 0.0000e+00\n",
      "Epoch 15/50\n",
      "63/63 [==============================] - 1s 16ms/step - loss: 4.2525 - accuracy: 0.0000e+00\n",
      "Epoch 16/50\n",
      "63/63 [==============================] - 1s 16ms/step - loss: 3.4655 - accuracy: 0.0000e+00\n"
     ]
    },
    {
     "data": {
      "text/plain": [
       "<keras.callbacks.History at 0x1b4ed49b670>"
      ]
     },
     "execution_count": 20,
     "metadata": {},
     "output_type": "execute_result"
    }
   ],
   "source": [
    "model.fit(X_train, y_train, epochs = 50, batch_size = 32, callbacks = [callback])"
   ]
  },
  {
   "cell_type": "code",
   "execution_count": 21,
   "metadata": {
    "colab": {
     "base_uri": "https://localhost:8080/"
    },
    "executionInfo": {
     "elapsed": 898,
     "status": "ok",
     "timestamp": 1684871185289,
     "user": {
      "displayName": "AMRITHA P P",
      "userId": "01855715462093467271"
     },
     "user_tz": -330
    },
    "id": "jDokiGsj-FJR",
    "outputId": "b67a3887-8b90-4436-edff-8a36a8d30dd3"
   },
   "outputs": [
    {
     "name": "stdout",
     "output_type": "stream",
     "text": [
      "16/16 [==============================] - 1s 7ms/step\n",
      "[181.41545] [178.12]\n",
      "[181.69705] [175.]\n",
      "[177.16522] [176.21]\n",
      "[178.64232] [176.82]\n",
      "[177.10187] [176.67]\n",
      "[176.86522] [175.03]\n",
      "[175.70802] [176.94]\n",
      "[177.49248] [179.98]\n",
      "[179.86719] [181.72]\n",
      "[183.56445] [179.97]\n",
      "[182.43031] [178.44]\n",
      "[181.12325] [178.65]\n",
      "[180.19046] [178.02]\n",
      "[178.40837] [175.3]\n",
      "[176.1989] [175.24]\n",
      "[176.24983] [171.27]\n",
      "[172.1416] [168.85]\n",
      "[170.31825] [164.94]\n",
      "[166.61848] [172.77]\n",
      "[170.041] [168.34]\n",
      "[167.08487] [166.48]\n",
      "[167.46082] [167.78]\n",
      "[168.97299] [166.68]\n",
      "[166.76071] [168.39]\n",
      "[168.54024] [171.61]\n",
      "[171.66972] [172.8]\n",
      "[174.11252] [168.38]\n",
      "[169.78128] [170.05]\n",
      "[172.65309] [173.25]\n",
      "[174.79524] [172.44]\n",
      "[173.21974] [174.14]\n",
      "[177.48445] [174.73]\n",
      "[177.22643] [175.82]\n",
      "[178.781] [178.24]\n",
      "[181.99025] [177.84]\n",
      "[180.9891] [172.8]\n",
      "[174.7519] [165.72]\n",
      "[169.23483] [165.24]\n",
      "[167.21037] [162.94]\n",
      "[163.7576] [163.65]\n",
      "[162.11047] [164.22]\n",
      "[163.72614] [162.32]\n",
      "[162.46045] [165.26]\n",
      "[165.09187] [169.1]\n",
      "[168.21178] [176.57]\n",
      "[179.69215] [176.89]\n",
      "[178.30676] [183.83]\n",
      "[178.79015] [185.16]\n",
      "[180.00621] [186.05]\n",
      "[180.72075] [187.36]\n",
      "[183.35019] [190.04]\n",
      "[187.00386] [188.59]\n",
      "[189.303] [188.15]\n",
      "[191.10345] [186.44]\n",
      "[189.07326] [188.18]\n",
      "[190.54794] [186.99]\n",
      "[186.95288] [186.31]\n",
      "[187.09377] [187.63]\n",
      "[188.04005] [187.16]\n",
      "[187.06718] [188.36]\n",
      "[188.89503] [188.15]\n",
      "[188.53214] [188.58]\n",
      "[189.59218] [187.9]\n",
      "[188.69902] [187.5]\n",
      "[188.42505] [186.87]\n",
      "[187.53938] [190.24]\n",
      "[191.17735] [191.83]\n",
      "[192.4738] [193.31]\n",
      "[196.74232] [193.98]\n",
      "[197.83934] [193.46]\n",
      "[197.072] [191.7]\n",
      "[194.35591] [191.23]\n",
      "[193.20314] [192.28]\n",
      "[193.05795] [190.7]\n",
      "[190.76602] [190.8]\n",
      "[191.59648] [188.84]\n",
      "[189.47166] [188.74]\n",
      "[189.56995] [185.69]\n",
      "[186.55898] [186.5]\n",
      "[187.36946] [185.46]\n",
      "[185.62479] [184.92]\n",
      "[185.28987] [182.17]\n",
      "[183.1389] [184.43]\n",
      "[185.00566] [184.16]\n",
      "[183.8745] [185.5]\n",
      "[185.47112] [185.11]\n",
      "[185.36172] [187.18]\n",
      "[188.4352] [183.92]\n",
      "[184.43483] [185.4]\n",
      "[187.39601] [187.97]\n",
      "[188.83096] [190.58]\n",
      "[193.38316] [190.35]\n",
      "[193.49672] [187.88]\n",
      "[190.5462] [191.03]\n",
      "[195.16711] [191.33]\n",
      "[192.88292] [190.91]\n",
      "[193.53105] [191.45]\n",
      "[194.31627] [190.4]\n",
      "[191.34962] [191.88]\n",
      "[193.39638] [191.44]\n",
      "[191.7739] [191.61]\n",
      "[192.69853] [193.]\n",
      "[194.28377] [194.82]\n",
      "[196.36569] [194.21]\n",
      "[195.79999] [190.98]\n",
      "[192.67322] [189.91]\n",
      "[191.65117] [190.29]\n",
      "[190.64828] [201.5]\n",
      "[205.52861] [207.39]\n",
      "[209.59349] [207.99]\n",
      "[206.08885] [209.07]\n",
      "[205.79628] [207.11]\n",
      "[207.22118] [207.25]\n",
      "[209.11331] [208.88]\n",
      "[212.31374] [207.53]\n",
      "[211.01279] [208.87]\n",
      "[212.79395] [209.75]\n",
      "[210.78938] [210.24]\n",
      "[211.39629] [213.32]\n",
      "[217.1558] [217.58]\n",
      "[222.43144] [215.46]\n",
      "[218.75179] [215.04]\n",
      "[218.66396] [215.05]\n",
      "[218.6663] [215.49]\n",
      "[218.42497] [216.16]\n",
      "[218.59477] [217.94]\n",
      "[220.71252] [219.7]\n",
      "[222.72513] [222.98]\n",
      "[227.69661] [225.03]\n",
      "[229.41197] [227.63]\n",
      "[230.49348] [228.36]\n",
      "[230.64687] [226.87]\n",
      "[229.45428] [223.1]\n",
      "[226.00203] [221.3]\n",
      "[223.44286] [218.33]\n",
      "[218.87753] [223.85]\n",
      "[223.53139] [221.07]\n",
      "[219.31062] [226.41]\n",
      "[227.34392] [223.84]\n",
      "[222.86444] [217.88]\n",
      "[220.81862] [218.24]\n",
      "[220.76671] [218.37]\n",
      "[217.68987] [220.03]\n",
      "[219.26459] [217.66]\n",
      "[217.56392] [220.79]\n",
      "[221.46306] [222.19]\n",
      "[221.21782] [220.42]\n",
      "[221.03654] [224.95]\n",
      "[229.77727] [225.74]\n",
      "[228.59514] [227.26]\n",
      "[231.48293] [229.28]\n",
      "[233.41673] [232.07]\n",
      "[235.81667] [227.99]\n",
      "[230.37062] [224.29]\n",
      "[227.4719] [223.77]\n",
      "[225.06596] [226.87]\n",
      "[226.00485] [216.36]\n",
      "[216.53955] [214.45]\n",
      "[217.7548] [222.11]\n",
      "[220.61226] [217.36]\n",
      "[215.23042] [222.15]\n",
      "[223.35503] [221.19]\n",
      "[220.22493] [216.02]\n",
      "[217.6345] [219.31]\n",
      "[221.50676] [220.65]\n",
      "[219.27168] [222.73]\n",
      "[224.6619] [215.09]\n",
      "[216.48915] [219.8]\n",
      "[222.89095] [216.3]\n",
      "[214.9088] [212.24]\n",
      "[214.03368] [213.3]\n",
      "[214.59892] [218.86]\n",
      "[217.26834] [222.22]\n",
      "[220.05685] [207.48]\n",
      "[209.96065] [201.59]\n",
      "[208.60167] [203.77]\n",
      "[203.95915] [209.95]\n",
      "[207.26541] [208.49]\n",
      "[205.75636] [204.47]\n",
      "[205.88869] [194.17]\n",
      "[196.33961] [192.23]\n",
      "[194.7655] [186.8]\n",
      "[187.37135] [191.41]\n",
      "[185.13695] [193.53]\n",
      "[191.88512] [185.86]\n",
      "[186.20874] [176.98]\n",
      "[178.4098] [176.78]\n",
      "[176.3302] [172.29]\n",
      "[170.62697] [174.62]\n",
      "[169.44276] [174.24]\n",
      "[172.9981] [180.94]\n",
      "[177.32964] [179.55]\n",
      "[178.5113] [178.58]\n",
      "[180.03712] [184.82]\n",
      "[189.55385] [176.69]\n",
      "[176.78174] [174.72]\n",
      "[178.21695] [168.49]\n",
      "[170.36555] [169.6]\n",
      "[170.33035] [168.63]\n",
      "[168.92058] [169.1]\n",
      "[168.25497] [170.95]\n",
      "[170.36345] [165.48]\n",
      "[165.9335] [163.94]\n",
      "[166.06372] [166.07]\n",
      "[166.67291] [160.89]\n",
      "[160.98412] [156.83]\n",
      "[158.86925] [150.73]\n",
      "[152.19652] [146.83]\n",
      "[144.67726] [157.17]\n",
      "[150.83604] [156.15]\n",
      "[154.32013] [156.23]\n",
      "[154.9434] [157.74]\n",
      "[158.51645] [157.92]\n",
      "[158.34033] [142.19]\n",
      "[144.70442] [148.26]\n",
      "[150.298] [147.93]\n",
      "[147.63791] [150.75]\n",
      "[147.88652] [153.31]\n",
      "[152.20876] [153.8]\n",
      "[153.11365] [152.29]\n",
      "[153.24783] [150.]\n",
      "[151.73093] [153.07]\n",
      "[154.56578] [154.94]\n",
      "[156.26105] [155.86]\n",
      "[157.48222] [156.82]\n",
      "[159.35747] [153.3]\n",
      "[154.52287] [153.92]\n",
      "[155.63228] [152.7]\n",
      "[153.18468] [157.76]\n",
      "[158.53188] [156.3]\n",
      "[155.81633] [154.68]\n",
      "[155.77715] [165.25]\n",
      "[168.11377] [166.44]\n",
      "[168.34499] [166.52]\n",
      "[167.37791] [171.25]\n",
      "[169.38708] [174.18]\n",
      "[171.95715] [174.24]\n",
      "[172.51485] [170.94]\n",
      "[172.39444] [170.41]\n",
      "[173.31728] [169.43]\n",
      "[170.96065] [170.89]\n",
      "[171.33372] [170.18]\n",
      "[170.01303] [170.8]\n",
      "[171.02092] [170.42]\n",
      "[170.70941] [170.93]\n",
      "[171.32368] [172.03]\n",
      "[172.35675] [171.06]\n",
      "[171.47533] [172.97]\n",
      "[174.5324] [174.23]\n",
      "[175.48358] [174.33]\n",
      "[176.0549] [174.87]\n",
      "[177.47331] [173.15]\n",
      "[174.46793] [174.97]\n",
      "[177.14853] [175.85]\n",
      "[176.73866] [175.53]\n",
      "[176.60135] [174.52]\n",
      "[175.77377] [172.5]\n",
      "[173.59576] [172.91]\n",
      "[173.7144] [178.9]\n",
      "[179.40755] [180.91]\n",
      "[182.22444] [181.71]\n",
      "[185.36119] [183.73]\n",
      "[187.32933] [186.12]\n",
      "[189.26236] [188.02]\n",
      "[190.2979] [186.53]\n",
      "[189.28252] [188.16]\n",
      "[191.11845] [195.09]\n",
      "[196.8773] [191.05]\n",
      "[193.84874] [188.74]\n",
      "[192.14456] [186.79]\n",
      "[188.6046] [188.47]\n",
      "[188.88954] [188.72]\n",
      "[188.24107] [189.95]\n",
      "[189.97429] [191.24]\n",
      "[191.59024] [194.02]\n",
      "[196.12444] [195.35]\n",
      "[198.559] [195.69]\n",
      "[199.83333] [197.]\n",
      "[201.20859] [200.1]\n",
      "[204.08037] [199.5]\n",
      "[203.29192] [200.62]\n",
      "[204.58107] [198.95]\n",
      "[202.10574] [198.87]\n",
      "[201.98804] [199.23]\n",
      "[200.57901] [199.25]\n",
      "[199.85153] [203.13]\n",
      "[205.85722] [203.86]\n",
      "[205.44185] [204.53]\n",
      "[208.29129] [207.48]\n",
      "[212.218] [207.16]\n",
      "[211.08095] [205.28]\n",
      "[208.90004] [204.3]\n",
      "[207.27109] [204.61]\n",
      "[205.77872] [200.67]\n",
      "[201.28358] [210.52]\n",
      "[214.17577] [209.15]\n",
      "[206.68372] [211.75]\n",
      "[216.39929] [208.48]\n",
      "[210.56154] [202.86]\n",
      "[205.74677] [202.9]\n",
      "[205.03285] [200.72]\n",
      "[200.69362] [197.18]\n",
      "[197.64537] [185.72]\n",
      "[186.00798] [188.66]\n",
      "[185.38066] [190.92]\n",
      "[188.72371] [190.08]\n",
      "[185.0275] [189.]\n",
      "[189.47456] [183.09]\n",
      "[184.6356] [186.6]\n",
      "[187.32237] [182.78]\n",
      "[183.00786] [179.66]\n",
      "[180.79445] [178.97]\n",
      "[180.09177] [178.23]\n",
      "[178.6036] [177.38]\n",
      "[177.71008] [178.3]\n",
      "[178.382] [175.07]\n",
      "[175.52626] [173.3]\n",
      "[174.66666] [179.64]\n",
      "[179.31822] [182.54]\n",
      "[180.74426] [185.22]\n",
      "[188.93251] [190.15]\n",
      "[192.14632] [192.58]\n",
      "[192.5756] [194.81]\n",
      "[192.54802] [194.19]\n",
      "[193.063] [194.15]\n",
      "[194.26462] [192.74]\n",
      "[195.67934] [193.89]\n",
      "[198.0638] [198.45]\n",
      "[202.82228] [197.87]\n",
      "[200.53737] [199.46]\n",
      "[203.73573] [198.78]\n",
      "[201.89885] [198.58]\n",
      "[201.86742] [195.57]\n",
      "[197.01187] [199.8]\n",
      "[202.99037] [199.74]\n",
      "[199.16956] [197.92]\n",
      "[199.02101] [201.55]\n",
      "[204.39894] [202.73]\n",
      "[203.62047] [204.41]\n",
      "[208.48679] [204.23]\n",
      "[208.02171] [200.02]\n",
      "[202.10716] [201.24]\n",
      "[204.0829] [203.23]\n",
      "[203.04164] [201.75]\n",
      "[201.51408] [203.3]\n",
      "[205.06203] [205.21]\n",
      "[205.79866] [204.5]\n",
      "[205.17058] [203.35]\n",
      "[205.24428] [205.66]\n",
      "[208.21562] [202.59]\n",
      "[202.66478] [207.22]\n",
      "[211.21053] [208.84]\n",
      "[210.02815] [208.67]\n",
      "[211.92755] [207.02]\n",
      "[209.83517] [207.74]\n",
      "[210.51855] [209.68]\n",
      "[211.98184] [208.78]\n",
      "[210.01839] [213.04]\n",
      "[217.88165] [208.43]\n",
      "[208.47504] [204.02]\n",
      "[207.22339] [193.34]\n",
      "[195.92221] [197.]\n",
      "[197.5834] [199.04]\n",
      "[198.19562] [203.43]\n",
      "[200.00385] [200.99]\n",
      "[200.24207] [200.48]\n",
      "[202.22807] [208.97]\n",
      "[212.8184] [202.75]\n",
      "[201.70973] [201.74]\n",
      "[205.7187] [206.5]\n",
      "[210.96524] [210.35]\n",
      "[214.23495] [210.36]\n",
      "[214.32767] [212.64]\n",
      "[216.20421] [212.46]\n",
      "[216.16408] [202.64]\n",
      "[205.28052] [206.49]\n",
      "[210.2085] [204.16]\n",
      "[202.77055] [205.53]\n",
      "[205.25851] [209.01]\n",
      "[208.35423] [208.74]\n",
      "[207.68544] [205.7]\n",
      "[207.2105] [209.19]\n",
      "[211.46458] [213.28]\n",
      "[216.02757] [213.26]\n",
      "[217.11357] [214.17]\n",
      "[218.08824] [216.7]\n",
      "[220.97194] [223.59]\n",
      "[225.85695] [223.085]\n",
      "[224.8838] [218.75]\n",
      "[219.55075] [219.9]\n",
      "[223.40878] [220.7]\n",
      "[223.37024] [222.77]\n",
      "[226.61424] [220.96]\n",
      "[222.37364] [217.73]\n",
      "[219.55284] [218.72]\n",
      "[219.8838] [217.68]\n",
      "[217.35783] [221.03]\n",
      "[221.07228] [219.89]\n",
      "[219.13676] [218.82]\n",
      "[220.08273] [223.97]\n",
      "[226.57011] [224.59]\n",
      "[224.97739] [218.96]\n",
      "[221.00034] [220.82]\n",
      "[224.49384] [227.01]\n",
      "[229.67839] [227.06]\n",
      "[228.76355] [224.4]\n",
      "[227.1753] [227.03]\n",
      "[231.35957] [230.09]\n",
      "[234.07686] [236.21]\n",
      "[240.55583] [235.87]\n",
      "[237.64342] [235.32]\n",
      "[234.8839] [234.37]\n",
      "[237.05898] [235.28]\n",
      "[239.61018] [236.41]\n",
      "[240.26692] [240.51]\n",
      "[245.34505] [239.96]\n",
      "[242.49683] [243.18]\n",
      "[246.82988] [243.58]\n",
      "[246.7266] [246.58]\n",
      "[249.98338] [249.05]\n",
      "[251.84431] [243.29]\n",
      "[244.56459] [243.26]\n",
      "[246.49596] [248.76]\n",
      "[251.97545] [255.82]\n",
      "[260.7521] [257.5]\n",
      "[257.9738] [257.13]\n",
      "[252.88188] [257.24]\n",
      "[255.88202] [259.43]\n",
      "[261.87598] [260.14]\n",
      "[262.76575] [262.2]\n",
      "[263.67032] [261.96]\n",
      "[263.5398] [264.47]\n",
      "[267.0688] [262.64]\n",
      "[263.23016] [265.76]\n",
      "[268.84882] [267.1]\n",
      "[268.625] [266.29]\n",
      "[267.64728] [263.19]\n",
      "[264.5335] [262.01]\n",
      "[263.38843] [261.78]\n",
      "[261.29324] [266.37]\n",
      "[265.30817] [264.29]\n",
      "[262.31714] [267.84]\n",
      "[269.6635] [267.25]\n",
      "[265.9259] [264.16]\n",
      "[265.58517] [259.45]\n",
      "[261.75153] [261.74]\n",
      "[262.2813] [265.58]\n",
      "[262.76685] [270.71]\n",
      "[270.25568] [266.92]\n",
      "[266.23978] [268.48]\n"
     ]
    },
    {
     "name": "stdout",
     "output_type": "stream",
     "text": [
      "[269.47235] [270.77]\n",
      "[271.2376] [271.46]\n",
      "[273.1239] [275.15]\n",
      "[276.77295] [279.86]\n",
      "[280.49948] [280.41]\n",
      "[277.66742] [279.74]\n",
      "[275.95306] [280.02]\n",
      "[279.22897] [279.44]\n",
      "[280.28662] [284.]\n",
      "[286.6557] [284.27]\n",
      "[284.08185] [289.91]\n",
      "[289.26044] [289.8]\n",
      "[287.64496] [291.52]\n",
      "[287.65036] [293.65]\n",
      "[291.11304] [300.35]\n",
      "[297.40707] [297.43]\n",
      "[291.99817] [299.8]\n",
      "[292.7599] [298.39]\n",
      "[296.11844] [303.19]\n",
      "[302.1629] [309.63]\n",
      "[308.86224] [310.33]\n",
      "[303.37677] [316.96]\n",
      "[302.28766] [312.68]\n",
      "[304.11572] [311.34]\n",
      "[304.7128] [315.24]\n",
      "[313.6311] [318.73]\n",
      "[316.35956] [316.57]\n",
      "[312.49127] [317.7]\n",
      "[314.72424] [319.23]\n",
      "[316.37195] [318.31]\n",
      "[316.53534] [308.95]\n",
      "[310.7254] [317.69]\n",
      "[318.57745] [324.34]\n",
      "[316.09314] [323.87]\n",
      "[320.04874] [309.51]\n",
      "[313.41644] [308.66]\n",
      "[313.77222] [318.85]\n",
      "[313.18134] [321.45]\n",
      "[314.41205] [325.21]\n",
      "[318.74704] [320.03]\n",
      "[316.132] [321.55]\n",
      "[319.21695] [319.61]\n",
      "[316.90244] [327.2]\n",
      "[326.95404] [324.87]\n",
      "[319.78622] [324.95]\n",
      "[321.7913] [319.]\n",
      "[318.3462] [323.62]\n",
      "[323.7147] [320.3]\n",
      "[314.45352] [313.05]\n",
      "[314.52515] [298.18]\n",
      "[296.8038] [288.08]\n",
      "[261.30194] [292.65]\n",
      "[265.01486] [273.52]\n",
      "[220.29514] [273.36]\n"
     ]
    }
   ],
   "source": [
    "predict_x=model.predict(X_test) \n",
    "for i in range(predict_x.shape[0]):\n",
    "    print(predict_x[i], y_test[i])"
   ]
  },
  {
   "cell_type": "code",
   "execution_count": 22,
   "metadata": {
    "id": "FoI5wZR1-HXl"
   },
   "outputs": [],
   "source": [
    "from sklearn.metrics import r2_score"
   ]
  },
  {
   "cell_type": "code",
   "execution_count": 23,
   "metadata": {
    "colab": {
     "base_uri": "https://localhost:8080/"
    },
    "executionInfo": {
     "elapsed": 26,
     "status": "ok",
     "timestamp": 1684871185294,
     "user": {
      "displayName": "AMRITHA P P",
      "userId": "01855715462093467271"
     },
     "user_tz": -330
    },
    "id": "xoBmhTV2CwBT",
    "outputId": "74edce8c-d930-4072-de81-d7b170157a8a"
   },
   "outputs": [
    {
     "data": {
      "text/plain": [
       "0.9841760688847623"
      ]
     },
     "execution_count": 23,
     "metadata": {},
     "output_type": "execute_result"
    }
   ],
   "source": [
    "r2_score(predict_x, y_test)"
   ]
  },
  {
   "cell_type": "code",
   "execution_count": 24,
   "metadata": {
    "id": "ao9_TxosC2cC"
   },
   "outputs": [],
   "source": [
    "test = pd.DataFrame(y_test)\n",
    "test['pred'] = predict_x"
   ]
  },
  {
   "cell_type": "code",
   "execution_count": 25,
   "metadata": {
    "colab": {
     "base_uri": "https://localhost:8080/",
     "height": 423
    },
    "executionInfo": {
     "elapsed": 32,
     "status": "ok",
     "timestamp": 1684871331799,
     "user": {
      "displayName": "AMRITHA P P",
      "userId": "01855715462093467271"
     },
     "user_tz": -330
    },
    "id": "BY8LRKTjDSME",
    "outputId": "19d3fed6-d516-4337-c1e3-782ea9a0165b"
   },
   "outputs": [
    {
     "data": {
      "text/html": [
       "<div>\n",
       "<style scoped>\n",
       "    .dataframe tbody tr th:only-of-type {\n",
       "        vertical-align: middle;\n",
       "    }\n",
       "\n",
       "    .dataframe tbody tr th {\n",
       "        vertical-align: top;\n",
       "    }\n",
       "\n",
       "    .dataframe thead th {\n",
       "        text-align: right;\n",
       "    }\n",
       "</style>\n",
       "<table border=\"1\" class=\"dataframe\">\n",
       "  <thead>\n",
       "    <tr style=\"text-align: right;\">\n",
       "      <th></th>\n",
       "      <th>actual</th>\n",
       "      <th>predicted</th>\n",
       "    </tr>\n",
       "  </thead>\n",
       "  <tbody>\n",
       "    <tr>\n",
       "      <th>0</th>\n",
       "      <td>178.12</td>\n",
       "      <td>181.415451</td>\n",
       "    </tr>\n",
       "    <tr>\n",
       "      <th>1</th>\n",
       "      <td>175.00</td>\n",
       "      <td>181.697052</td>\n",
       "    </tr>\n",
       "    <tr>\n",
       "      <th>2</th>\n",
       "      <td>176.21</td>\n",
       "      <td>177.165222</td>\n",
       "    </tr>\n",
       "    <tr>\n",
       "      <th>3</th>\n",
       "      <td>176.82</td>\n",
       "      <td>178.642319</td>\n",
       "    </tr>\n",
       "    <tr>\n",
       "      <th>4</th>\n",
       "      <td>176.67</td>\n",
       "      <td>177.101868</td>\n",
       "    </tr>\n",
       "    <tr>\n",
       "      <th>...</th>\n",
       "      <td>...</td>\n",
       "      <td>...</td>\n",
       "    </tr>\n",
       "    <tr>\n",
       "      <th>499</th>\n",
       "      <td>298.18</td>\n",
       "      <td>314.525146</td>\n",
       "    </tr>\n",
       "    <tr>\n",
       "      <th>500</th>\n",
       "      <td>288.08</td>\n",
       "      <td>296.803802</td>\n",
       "    </tr>\n",
       "    <tr>\n",
       "      <th>501</th>\n",
       "      <td>292.65</td>\n",
       "      <td>261.301941</td>\n",
       "    </tr>\n",
       "    <tr>\n",
       "      <th>502</th>\n",
       "      <td>273.52</td>\n",
       "      <td>265.014862</td>\n",
       "    </tr>\n",
       "    <tr>\n",
       "      <th>503</th>\n",
       "      <td>273.36</td>\n",
       "      <td>220.295135</td>\n",
       "    </tr>\n",
       "  </tbody>\n",
       "</table>\n",
       "<p>504 rows × 2 columns</p>\n",
       "</div>"
      ],
      "text/plain": [
       "     actual   predicted\n",
       "0    178.12  181.415451\n",
       "1    175.00  181.697052\n",
       "2    176.21  177.165222\n",
       "3    176.82  178.642319\n",
       "4    176.67  177.101868\n",
       "..      ...         ...\n",
       "499  298.18  314.525146\n",
       "500  288.08  296.803802\n",
       "501  292.65  261.301941\n",
       "502  273.52  265.014862\n",
       "503  273.36  220.295135\n",
       "\n",
       "[504 rows x 2 columns]"
      ]
     },
     "execution_count": 25,
     "metadata": {},
     "output_type": "execute_result"
    }
   ],
   "source": [
    "test.rename(columns = {0 : 'actual', 'pred' : 'predicted'}, inplace = True)\n",
    "test"
   ]
  },
  {
   "cell_type": "code",
   "execution_count": 26,
   "metadata": {
    "colab": {
     "base_uri": "https://localhost:8080/",
     "height": 447
    },
    "executionInfo": {
     "elapsed": 28,
     "status": "ok",
     "timestamp": 1684871331800,
     "user": {
      "displayName": "AMRITHA P P",
      "userId": "01855715462093467271"
     },
     "user_tz": -330
    },
    "id": "lFu3FBd-Dc1R",
    "outputId": "1a0907c1-7272-4dbe-c52d-34ff2fe94699"
   },
   "outputs": [
    {
     "data": {
      "text/plain": [
       "<AxesSubplot:>"
      ]
     },
     "execution_count": 26,
     "metadata": {},
     "output_type": "execute_result"
    },
    {
     "data": {
      "image/png": "[encoded data removed]",
      "text/plain": [
       "<Figure size 640x480 with 1 Axes>"
      ]
     },
     "metadata": {},
     "output_type": "display_data"
    }
   ],
   "source": [
    "test.plot()"
   ]
  },
  {
   "cell_type": "code",
   "execution_count": 27,
   "metadata": {
    "id": "PgiFVCoADfDb"
   },
   "outputs": [
    {
     "name": "stdout",
     "output_type": "stream",
     "text": [
      "Keras weights file (<HDF5 file \"variables.h5\" (mode r+)>) saving:\n",
      "...layers\\dense\n",
      "......vars\n",
      ".........0\n",
      ".........1\n",
      "...layers\\dense_1\n",
      "......vars\n",
      ".........0\n",
      ".........1\n",
      "...layers\\dense_2\n",
      "......vars\n",
      ".........0\n",
      ".........1\n",
      "...layers\\lstm\n",
      "......vars\n",
      "...layers\\lstm\\cell\n",
      "......vars\n",
      ".........0\n",
      ".........1\n",
      ".........2\n",
      "...layers\\lstm_1\n",
      "......vars\n",
      "...layers\\lstm_1\\cell\n",
      "......vars\n",
      ".........0\n",
      ".........1\n",
      ".........2\n",
      "...metrics\\mean\n",
      "......vars\n",
      ".........0\n",
      ".........1\n",
      "...metrics\\mean_metric_wrapper\n",
      "......vars\n",
      ".........0\n",
      ".........1\n",
      "...optimizer\n",
      "......vars\n",
      ".........0\n",
      ".........1\n",
      ".........10\n",
      ".........11\n",
      ".........12\n",
      ".........13\n",
      ".........14\n",
      ".........15\n",
      ".........16\n",
      ".........17\n",
      ".........18\n",
      ".........19\n",
      ".........2\n",
      ".........20\n",
      ".........21\n",
      ".........22\n",
      ".........23\n",
      ".........24\n",
      ".........3\n",
      ".........4\n",
      ".........5\n",
      ".........6\n",
      ".........7\n",
      ".........8\n",
      ".........9\n",
      "...vars\n",
      "Keras model archive saving:\n",
      "File Name                                             Modified             Size\n",
      "config.json                                    2023-05-25 11:14:47         3476\n",
      "metadata.json                                  2023-05-25 11:14:47           64\n",
      "variables.h5                                   2023-05-25 11:14:48       467784\n"
     ]
    }
   ],
   "source": [
    "filename = 'model_pickle_apple_lstm.sav'\n",
    "pickle.dump(model, open(filename, 'wb'))"
   ]
  },
  {
   "cell_type": "code",
   "execution_count": 28,
   "metadata": {
    "id": "2ePIyhHJX21-"
   },
   "outputs": [
    {
     "data": {
      "text/plain": [
       "array([[324.87],\n",
       "       [324.95],\n",
       "       [319.  ],\n",
       "       [323.62],\n",
       "       [320.3 ],\n",
       "       [313.05],\n",
       "       [298.18],\n",
       "       [288.08],\n",
       "       [292.65],\n",
       "       [273.52]])"
      ]
     },
     "execution_count": 28,
     "metadata": {},
     "output_type": "execute_result"
    }
   ],
   "source": [
    "new = X_test[-1]\n",
    "final = y_test[-1]\n",
    "np.append(new, final)\n",
    "new"
   ]
  },
  {
   "cell_type": "code",
   "execution_count": 29,
   "metadata": {},
   "outputs": [
    {
     "name": "stdout",
     "output_type": "stream",
     "text": [
      "1/1 [==============================] - 0s 48ms/step\n",
      "1/1 [==============================] - 0s 57ms/step\n",
      "1/1 [==============================] - 0s 57ms/step\n",
      "1/1 [==============================] - 0s 57ms/step\n",
      "1/1 [==============================] - 0s 52ms/step\n",
      "1/1 [==============================] - 0s 58ms/step\n",
      "1/1 [==============================] - 0s 46ms/step\n",
      "1/1 [==============================] - 0s 55ms/step\n",
      "1/1 [==============================] - 0s 58ms/step\n",
      "1/1 [==============================] - 0s 59ms/step\n"
     ]
    }
   ],
   "source": [
    "predictions = []\n",
    "for i in range(10):\n",
    "    fin = new.reshape(1, 10, 1)\n",
    "    final = model.predict(fin)\n",
    "    for j in final:\n",
    "        new = np.append(new, j)\n",
    "        predictions.append(j)\n",
    "    new = new[1:]"
   ]
  },
  {
   "cell_type": "code",
   "execution_count": 30,
   "metadata": {},
   "outputs": [
    {
     "data": {
      "text/plain": [
       "[array([220.29509], dtype=float32),\n",
       " array([181.79022], dtype=float32),\n",
       " array([203.5712], dtype=float32),\n",
       " array([200.34985], dtype=float32),\n",
       " array([177.50584], dtype=float32),\n",
       " array([187.29709], dtype=float32),\n",
       " array([148.41728], dtype=float32),\n",
       " array([141.81859], dtype=float32),\n",
       " array([153.2616], dtype=float32),\n",
       " array([144.43094], dtype=float32)]"
      ]
     },
     "execution_count": 30,
     "metadata": {},
     "output_type": "execute_result"
    }
   ],
   "source": [
    "predictions"
   ]
  },
  {
   "cell_type": "code",
   "execution_count": 33,
   "metadata": {},
   "outputs": [],
   "source": [
    "x = [i+data['Close'].shape[0] for i in range(10)]"
   ]
  },
  {
   "cell_type": "code",
   "execution_count": 34,
   "metadata": {},
   "outputs": [
    {
     "data": {
      "text/plain": [
       "[<matplotlib.lines.Line2D at 0x1b4ed569310>]"
      ]
     },
     "execution_count": 34,
     "metadata": {},
     "output_type": "execute_result"
    },
    {
     "data": {
      "image/png": "[encoded data removed]",
      "text/plain": [
       "<Figure size 640x480 with 1 Axes>"
      ]
     },
     "metadata": {},
     "output_type": "display_data"
    }
   ],
   "source": [
    "plt.plot(x,predictions)"
   ]
  },
  {
   "cell_type": "code",
   "execution_count": null,
   "metadata": {},
   "outputs": [],
   "source": []
  }
 ],
 "metadata": {
  "accelerator": "GPU",
  "colab": {
   "authorship_tag": "ABX9TyP4Tmy/SK7EieWhpOuC+QXY",
   "gpuType": "T4",
   "mount_file_id": "1VJkcyAkQhpqKwepWf7wfYsbCefF7U8eL",
   "provenance": []
  },
  "gpuClass": "standard",
  "kernelspec": {
   "display_name": "Python 3 (ipykernel)",
   "language": "python",
   "name": "python3"
  },
  "language_info": {
   "codemirror_mode": {
    "name": "ipython",
    "version": 3
   },
   "file_extension": ".py",
   "mimetype": "text/x-python",
   "name": "python",
   "nbconvert_exporter": "python",
   "pygments_lexer": "ipython3",
   "version": "3.9.13"
  }
 },
 "nbformat": 4,
 "nbformat_minor": 1
}
