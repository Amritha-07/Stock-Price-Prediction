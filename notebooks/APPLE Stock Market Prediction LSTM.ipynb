{
 "cells": [
  {
   "cell_type": "code",
   "execution_count": 22,
   "metadata": {
    "id": "rxKN47mbme5R"
   },
   "outputs": [],
   "source": [
    "import numpy as np\n",
    "import pandas as pd\n",
    "import matplotlib.pyplot as plt\n",
    "from sklearn.preprocessing import MinMaxScaler\n",
    "from keras.models import Sequential\n",
    "from keras.layers import Dense, LSTM\n",
    "from keras.preprocessing.sequence import TimeseriesGenerator\n",
    "from sklearn.metrics import r2_score\n",
    "from keras import callbacks\n",
    "import pickle"
   ]
  },
  {
   "cell_type": "code",
   "execution_count": 39,
   "metadata": {
    "id": "KQRp1QmFn_5t"
   },
   "outputs": [],
   "source": [
    "data = pd.read_csv(\"HistoricalQuotes.csv\", parse_dates = True)"
   ]
  },
  {
   "cell_type": "code",
   "execution_count": 40,
   "metadata": {
    "id": "wiQXxMPTynvx"
   },
   "outputs": [],
   "source": [
    "data.rename(columns = {' Close/Last' : 'Close', ' Volume' : 'Volume', ' Open' : 'Open', ' High' : 'High', ' Low' : 'Low'}, inplace = True)"
   ]
  },
  {
   "cell_type": "code",
   "execution_count": 41,
   "metadata": {},
   "outputs": [],
   "source": [
    "data = data.loc[::-1].reset_index(drop = True)"
   ]
  },
  {
   "cell_type": "code",
   "execution_count": 42,
   "metadata": {
    "colab": {
     "base_uri": "https://localhost:8080/",
     "height": 237
    },
    "executionInfo": {
     "elapsed": 74,
     "status": "ok",
     "timestamp": 1684871022046,
     "user": {
      "displayName": "AMRITHA P P",
      "userId": "01855715462093467271"
     },
     "user_tz": -330
    },
    "id": "Ui5I8q8Hsndg",
    "outputId": "ad027694-3903-4357-d16b-c543266c4c8d"
   },
   "outputs": [
    {
     "data": {
      "text/html": [
       "<div>\n",
       "<style scoped>\n",
       "    .dataframe tbody tr th:only-of-type {\n",
       "        vertical-align: middle;\n",
       "    }\n",
       "\n",
       "    .dataframe tbody tr th {\n",
       "        vertical-align: top;\n",
       "    }\n",
       "\n",
       "    .dataframe thead th {\n",
       "        text-align: right;\n",
       "    }\n",
       "</style>\n",
       "<table border=\"1\" class=\"dataframe\">\n",
       "  <thead>\n",
       "    <tr style=\"text-align: right;\">\n",
       "      <th></th>\n",
       "      <th>Date</th>\n",
       "      <th>Close</th>\n",
       "      <th>Volume</th>\n",
       "      <th>Open</th>\n",
       "      <th>High</th>\n",
       "      <th>Low</th>\n",
       "    </tr>\n",
       "  </thead>\n",
       "  <tbody>\n",
       "    <tr>\n",
       "      <th>0</th>\n",
       "      <td>03/01/2010</td>\n",
       "      <td>$29.8557</td>\n",
       "      <td>137312041</td>\n",
       "      <td>$29.3928</td>\n",
       "      <td>$29.9286</td>\n",
       "      <td>$29.35</td>\n",
       "    </tr>\n",
       "    <tr>\n",
       "      <th>1</th>\n",
       "      <td>03/02/2010</td>\n",
       "      <td>$29.8357</td>\n",
       "      <td>141486282</td>\n",
       "      <td>$29.99</td>\n",
       "      <td>$30.1186</td>\n",
       "      <td>$29.6771</td>\n",
       "    </tr>\n",
       "    <tr>\n",
       "      <th>2</th>\n",
       "      <td>03/03/2010</td>\n",
       "      <td>$29.9043</td>\n",
       "      <td>92846488</td>\n",
       "      <td>$29.8486</td>\n",
       "      <td>$29.9814</td>\n",
       "      <td>$29.7057</td>\n",
       "    </tr>\n",
       "    <tr>\n",
       "      <th>3</th>\n",
       "      <td>03/04/2010</td>\n",
       "      <td>$30.1014</td>\n",
       "      <td>89591907</td>\n",
       "      <td>$29.8971</td>\n",
       "      <td>$30.1314</td>\n",
       "      <td>$29.8043</td>\n",
       "    </tr>\n",
       "    <tr>\n",
       "      <th>4</th>\n",
       "      <td>03/05/2010</td>\n",
       "      <td>$31.2786</td>\n",
       "      <td>224647427</td>\n",
       "      <td>$30.7057</td>\n",
       "      <td>$31.3857</td>\n",
       "      <td>$30.6614</td>\n",
       "    </tr>\n",
       "  </tbody>\n",
       "</table>\n",
       "</div>"
      ],
      "text/plain": [
       "         Date      Close     Volume       Open       High        Low\n",
       "0  03/01/2010   $29.8557  137312041   $29.3928   $29.9286     $29.35\n",
       "1  03/02/2010   $29.8357  141486282     $29.99   $30.1186   $29.6771\n",
       "2  03/03/2010   $29.9043   92846488   $29.8486   $29.9814   $29.7057\n",
       "3  03/04/2010   $30.1014   89591907   $29.8971   $30.1314   $29.8043\n",
       "4  03/05/2010   $31.2786  224647427   $30.7057   $31.3857   $30.6614"
      ]
     },
     "execution_count": 42,
     "metadata": {},
     "output_type": "execute_result"
    }
   ],
   "source": [
    "data.head(5)"
   ]
  },
  {
   "cell_type": "code",
   "execution_count": 43,
   "metadata": {
    "id": "xpoaevi8sSeP"
   },
   "outputs": [],
   "source": [
    "def convert(x):\n",
    "  y = x[2:]\n",
    "  return float(y)"
   ]
  },
  {
   "cell_type": "code",
   "execution_count": 44,
   "metadata": {
    "id": "Oao3C15NobN0"
   },
   "outputs": [],
   "source": [
    "data['Close'] = data['Close'].apply(convert)\n",
    "data['Open'] = data['Open'].apply(convert)\n",
    "data['High'] = data['High'].apply(convert)\n",
    "data['Low'] = data['Low'].apply(convert)"
   ]
  },
  {
   "cell_type": "code",
   "execution_count": 45,
   "metadata": {
    "colab": {
     "base_uri": "https://localhost:8080/",
     "height": 237
    },
    "executionInfo": {
     "elapsed": 42,
     "status": "ok",
     "timestamp": 1684871022048,
     "user": {
      "displayName": "AMRITHA P P",
      "userId": "01855715462093467271"
     },
     "user_tz": -330
    },
    "id": "8P23uAkys5BG",
    "outputId": "bd4012fe-0a94-4694-9b8a-3caf68f1933f"
   },
   "outputs": [
    {
     "data": {
      "text/html": [
       "<div>\n",
       "<style scoped>\n",
       "    .dataframe tbody tr th:only-of-type {\n",
       "        vertical-align: middle;\n",
       "    }\n",
       "\n",
       "    .dataframe tbody tr th {\n",
       "        vertical-align: top;\n",
       "    }\n",
       "\n",
       "    .dataframe thead th {\n",
       "        text-align: right;\n",
       "    }\n",
       "</style>\n",
       "<table border=\"1\" class=\"dataframe\">\n",
       "  <thead>\n",
       "    <tr style=\"text-align: right;\">\n",
       "      <th></th>\n",
       "      <th>Date</th>\n",
       "      <th>Close</th>\n",
       "      <th>Volume</th>\n",
       "      <th>Open</th>\n",
       "      <th>High</th>\n",
       "      <th>Low</th>\n",
       "    </tr>\n",
       "  </thead>\n",
       "  <tbody>\n",
       "    <tr>\n",
       "      <th>0</th>\n",
       "      <td>03/01/2010</td>\n",
       "      <td>29.8557</td>\n",
       "      <td>137312041</td>\n",
       "      <td>29.3928</td>\n",
       "      <td>29.9286</td>\n",
       "      <td>29.3500</td>\n",
       "    </tr>\n",
       "    <tr>\n",
       "      <th>1</th>\n",
       "      <td>03/02/2010</td>\n",
       "      <td>29.8357</td>\n",
       "      <td>141486282</td>\n",
       "      <td>29.9900</td>\n",
       "      <td>30.1186</td>\n",
       "      <td>29.6771</td>\n",
       "    </tr>\n",
       "    <tr>\n",
       "      <th>2</th>\n",
       "      <td>03/03/2010</td>\n",
       "      <td>29.9043</td>\n",
       "      <td>92846488</td>\n",
       "      <td>29.8486</td>\n",
       "      <td>29.9814</td>\n",
       "      <td>29.7057</td>\n",
       "    </tr>\n",
       "    <tr>\n",
       "      <th>3</th>\n",
       "      <td>03/04/2010</td>\n",
       "      <td>30.1014</td>\n",
       "      <td>89591907</td>\n",
       "      <td>29.8971</td>\n",
       "      <td>30.1314</td>\n",
       "      <td>29.8043</td>\n",
       "    </tr>\n",
       "    <tr>\n",
       "      <th>4</th>\n",
       "      <td>03/05/2010</td>\n",
       "      <td>31.2786</td>\n",
       "      <td>224647427</td>\n",
       "      <td>30.7057</td>\n",
       "      <td>31.3857</td>\n",
       "      <td>30.6614</td>\n",
       "    </tr>\n",
       "  </tbody>\n",
       "</table>\n",
       "</div>"
      ],
      "text/plain": [
       "         Date    Close     Volume     Open     High      Low\n",
       "0  03/01/2010  29.8557  137312041  29.3928  29.9286  29.3500\n",
       "1  03/02/2010  29.8357  141486282  29.9900  30.1186  29.6771\n",
       "2  03/03/2010  29.9043   92846488  29.8486  29.9814  29.7057\n",
       "3  03/04/2010  30.1014   89591907  29.8971  30.1314  29.8043\n",
       "4  03/05/2010  31.2786  224647427  30.7057  31.3857  30.6614"
      ]
     },
     "execution_count": 45,
     "metadata": {},
     "output_type": "execute_result"
    }
   ],
   "source": [
    "data.head(5)"
   ]
  },
  {
   "cell_type": "code",
   "execution_count": 46,
   "metadata": {
    "colab": {
     "base_uri": "https://localhost:8080/",
     "height": 863
    },
    "executionInfo": {
     "elapsed": 2930,
     "status": "ok",
     "timestamp": 1684871024939,
     "user": {
      "displayName": "AMRITHA P P",
      "userId": "01855715462093467271"
     },
     "user_tz": -330
    },
    "id": "rH8WFekHoHmU",
    "outputId": "26106564-2fc3-4e66-8759-5cf6bf2a2f6b"
   },
   "outputs": [
    {
     "data": {
      "text/plain": [
       "array([[<AxesSubplot:>],\n",
       "       [<AxesSubplot:>],\n",
       "       [<AxesSubplot:>],\n",
       "       [<AxesSubplot:>],\n",
       "       [<AxesSubplot:>]], dtype=object)"
      ]
     },
     "execution_count": 46,
     "metadata": {},
     "output_type": "execute_result"
    },
    {
     "data": {
      "image/png": "[encoded data removed]",
      "text/plain": [
       "<Figure size 1000x1000 with 5 Axes>"
      ]
     },
     "metadata": {},
     "output_type": "display_data"
    }
   ],
   "source": [
    "data.plot(subplots = True, layout = (5,1), figsize = (10, 10))"
   ]
  },
  {
   "cell_type": "code",
   "execution_count": 47,
   "metadata": {
    "colab": {
     "base_uri": "https://localhost:8080/"
    },
    "executionInfo": {
     "elapsed": 40,
     "status": "ok",
     "timestamp": 1684871024941,
     "user": {
      "displayName": "AMRITHA P P",
      "userId": "01855715462093467271"
     },
     "user_tz": -330
    },
    "id": "0xhbR16ooOGJ",
    "outputId": "9730ac0a-0a73-4387-e7ab-38a742f77ee7"
   },
   "outputs": [
    {
     "data": {
      "text/plain": [
       "2518"
      ]
     },
     "execution_count": 47,
     "metadata": {},
     "output_type": "execute_result"
    }
   ],
   "source": [
    "len = data.shape[0]\n",
    "end = int(0.8 * len)\n",
    "len"
   ]
  },
  {
   "cell_type": "code",
   "execution_count": 58,
   "metadata": {
    "id": "_lR4AnkZtTXV"
   },
   "outputs": [],
   "source": [
    "newdata = data.iloc[:, 1]"
   ]
  },
  {
   "cell_type": "code",
   "execution_count": 59,
   "metadata": {
    "id": "hWMdPCjhtmZz"
   },
   "outputs": [],
   "source": [
    "X_train, y_train, X_test, y_test = [], [], [] , []"
   ]
  },
  {
   "cell_type": "code",
   "execution_count": 60,
   "metadata": {
    "id": "dPaJ-7zatvvY"
   },
   "outputs": [],
   "source": [
    "T = 10"
   ]
  },
  {
   "cell_type": "code",
   "execution_count": 61,
   "metadata": {
    "id": "fDefI3ZOXsmF"
   },
   "outputs": [],
   "source": [
    "for i in range(end):\n",
    "  X_train.append(newdata[i:i+T])\n",
    "  y_train.append(newdata[i+T])\n",
    "X_train, y_train = np.array(X_train).reshape(end, T, 1), np.array(y_train).reshape(-1, 1)"
   ]
  },
  {
   "cell_type": "code",
   "execution_count": 62,
   "metadata": {
    "id": "9YartnMIuM7K"
   },
   "outputs": [],
   "source": [
    "for i in range(end - T, len - T):\n",
    "  X_test.append(newdata[i:i+T])\n",
    "  y_test.append(newdata[i+T])\n",
    "X_test, y_test = np.array(X_test).reshape(len-end, T, 1), np.array(y_test).reshape(-1, 1)"
   ]
  },
  {
   "cell_type": "code",
   "execution_count": 63,
   "metadata": {
    "colab": {
     "base_uri": "https://localhost:8080/"
    },
    "executionInfo": {
     "elapsed": 786,
     "status": "ok",
     "timestamp": 1684871025703,
     "user": {
      "displayName": "AMRITHA P P",
      "userId": "01855715462093467271"
     },
     "user_tz": -330
    },
    "id": "jQou7fuvuvB5",
    "outputId": "aaea108e-6065-48d2-eaac-f435b5466fec"
   },
   "outputs": [
    {
     "name": "stdout",
     "output_type": "stream",
     "text": [
      "(2014, 10, 1) (2014, 1) (504, 10, 1) (504, 1)\n"
     ]
    }
   ],
   "source": [
    "print(X_train.shape, y_train.shape, X_test.shape, y_test.shape)"
   ]
  },
  {
   "cell_type": "code",
   "execution_count": 64,
   "metadata": {
    "colab": {
     "base_uri": "https://localhost:8080/"
    },
    "executionInfo": {
     "elapsed": 12,
     "status": "ok",
     "timestamp": 1684871124868,
     "user": {
      "displayName": "AMRITHA P P",
      "userId": "01855715462093467271"
     },
     "user_tz": -330
    },
    "id": "NrTeDGxgu2LE",
    "outputId": "1bf236ea-3c4b-4f7c-d632-2bd7f777b11f"
   },
   "outputs": [],
   "source": [
    "N = X_train.shape[2]\n",
    "model = Sequential()\n",
    "model.add(LSTM(units=50, return_sequences=True, activation = 'relu', input_shape = (T,N)))\n",
    "model.add(LSTM(50, activation = 'relu'))\n",
    "model.add(Dense(64, activation = 'linear'))\n",
    "model.add(Dense(32, activation = 'linear'))\n",
    "model.add(Dense(1, activation = 'relu'))"
   ]
  },
  {
   "cell_type": "code",
   "execution_count": 65,
   "metadata": {
    "id": "wgFzh91WzJPa"
   },
   "outputs": [],
   "source": [
    "model.compile(optimizer = 'adam', loss = 'mse', metrics = ['accuracy'])"
   ]
  },
  {
   "cell_type": "code",
   "execution_count": 66,
   "metadata": {
    "id": "ZWULTY5xW6Gg"
   },
   "outputs": [],
   "source": [
    "callback = callbacks.EarlyStopping(monitor='loss', patience=3, restore_best_weights = True)"
   ]
  },
  {
   "cell_type": "code",
   "execution_count": 67,
   "metadata": {
    "colab": {
     "base_uri": "https://localhost:8080/"
    },
    "executionInfo": {
     "elapsed": 40134,
     "status": "ok",
     "timestamp": 1684871165338,
     "user": {
      "displayName": "AMRITHA P P",
      "userId": "01855715462093467271"
     },
     "user_tz": -330
    },
    "id": "fqX-KpCK-Bz7",
    "outputId": "963c22fc-71cf-41a4-8d24-c08e135b7019"
   },
   "outputs": [
    {
     "name": "stdout",
     "output_type": "stream",
     "text": [
      "Epoch 1/50\n",
      "63/63 [==============================] - 5s 11ms/step - loss: 203.1460 - accuracy: 0.0000e+00\n",
      "Epoch 2/50\n",
      "63/63 [==============================] - 1s 14ms/step - loss: 5.6513 - accuracy: 0.0000e+00\n",
      "Epoch 3/50\n",
      "63/63 [==============================] - 1s 16ms/step - loss: 4.4177 - accuracy: 0.0000e+00\n",
      "Epoch 4/50\n",
      "63/63 [==============================] - 1s 17ms/step - loss: 4.5567 - accuracy: 0.0000e+00\n",
      "Epoch 5/50\n",
      "63/63 [==============================] - 1s 20ms/step - loss: 4.8394 - accuracy: 0.0000e+00\n",
      "Epoch 6/50\n",
      "63/63 [==============================] - 1s 11ms/step - loss: 3.8956 - accuracy: 0.0000e+00\n",
      "Epoch 7/50\n",
      "63/63 [==============================] - 1s 14ms/step - loss: 4.5054 - accuracy: 0.0000e+00\n",
      "Epoch 8/50\n",
      "63/63 [==============================] - 1s 11ms/step - loss: 5.6260 - accuracy: 0.0000e+00\n",
      "Epoch 9/50\n",
      "63/63 [==============================] - 1s 11ms/step - loss: 6.8879 - accuracy: 0.0000e+00\n"
     ]
    },
    {
     "data": {
      "text/plain": [
       "<keras.callbacks.History at 0x170407a8940>"
      ]
     },
     "execution_count": 67,
     "metadata": {},
     "output_type": "execute_result"
    }
   ],
   "source": [
    "model.fit(X_train, y_train, epochs = 50, batch_size = 32, callbacks = [callback])"
   ]
  },
  {
   "cell_type": "code",
   "execution_count": 68,
   "metadata": {
    "colab": {
     "base_uri": "https://localhost:8080/"
    },
    "executionInfo": {
     "elapsed": 898,
     "status": "ok",
     "timestamp": 1684871185289,
     "user": {
      "displayName": "AMRITHA P P",
      "userId": "01855715462093467271"
     },
     "user_tz": -330
    },
    "id": "jDokiGsj-FJR",
    "outputId": "b67a3887-8b90-4436-edff-8a36a8d30dd3"
   },
   "outputs": [
    {
     "name": "stdout",
     "output_type": "stream",
     "text": [
      "16/16 [==============================] - 1s 6ms/step\n",
      "[181.94623] [178.12]\n",
      "[180.48132] [175.]\n",
      "[177.86807] [176.21]\n",
      "[175.05597] [176.82]\n",
      "[175.2458] [176.67]\n",
      "[175.67688] [175.03]\n",
      "[175.07707] [176.94]\n",
      "[175.00029] [179.98]\n",
      "[176.69073] [181.72]\n",
      "[179.30193] [179.97]\n",
      "[181.5374] [178.44]\n",
      "[179.60123] [178.65]\n",
      "[177.68738] [178.02]\n",
      "[177.3048] [175.3]\n",
      "[176.02216] [175.24]\n",
      "[174.85864] [171.27]\n",
      "[172.94043] [168.85]\n",
      "[171.16714] [164.94]\n",
      "[168.38791] [172.77]\n",
      "[172.42526] [168.34]\n",
      "[170.81735] [166.48]\n",
      "[167.99496] [167.78]\n",
      "[167.59094] [166.68]\n",
      "[167.08594] [168.39]\n",
      "[167.3215] [171.61]\n",
      "[168.72968] [172.8]\n",
      "[171.36487] [168.38]\n",
      "[172.50975] [170.05]\n",
      "[169.07834] [173.25]\n",
      "[170.07227] [172.44]\n",
      "[172.66798] [174.14]\n",
      "[173.03596] [174.73]\n",
      "[174.07304] [175.82]\n",
      "[174.88666] [178.24]\n",
      "[176.25421] [177.84]\n",
      "[178.8035] [172.8]\n",
      "[177.80785] [165.72]\n",
      "[170.03249] [165.24]\n",
      "[167.50674] [162.94]\n",
      "[166.14705] [163.65]\n",
      "[166.40201] [164.22]\n",
      "[166.46217] [162.32]\n",
      "[164.5163] [165.26]\n",
      "[165.13647] [169.1]\n",
      "[166.596] [176.57]\n",
      "[170.41074] [176.89]\n",
      "[180.0257] [183.83]\n",
      "[182.86374] [185.16]\n",
      "[183.72409] [186.05]\n",
      "[185.86038] [187.36]\n",
      "[185.08218] [190.04]\n",
      "[189.96866] [188.59]\n",
      "[193.01611] [188.15]\n",
      "[191.41895] [186.44]\n",
      "[187.39084] [188.18]\n",
      "[185.74292] [186.99]\n",
      "[185.95886] [186.31]\n",
      "[185.38284] [187.63]\n",
      "[185.45401] [187.16]\n",
      "[185.6778] [188.36]\n",
      "[186.16069] [188.15]\n",
      "[186.54547] [188.58]\n",
      "[186.77612] [187.9]\n",
      "[186.72731] [187.5]\n",
      "[186.31693] [186.87]\n",
      "[185.77939] [190.24]\n",
      "[186.64885] [191.83]\n",
      "[188.62503] [193.31]\n",
      "[190.90121] [193.98]\n",
      "[192.63635] [193.46]\n",
      "[193.28687] [191.7]\n",
      "[192.13771] [191.23]\n",
      "[190.24942] [192.28]\n",
      "[189.93509] [190.7]\n",
      "[189.77368] [190.8]\n",
      "[189.3558] [188.84]\n",
      "[188.39247] [188.74]\n",
      "[187.8291] [185.69]\n",
      "[186.25626] [186.5]\n",
      "[186.00122] [185.46]\n",
      "[185.32684] [184.92]\n",
      "[184.646] [182.17]\n",
      "[182.95236] [184.43]\n",
      "[183.35062] [184.16]\n",
      "[183.31226] [185.5]\n",
      "[183.55716] [185.11]\n",
      "[183.73442] [187.18]\n",
      "[184.39087] [183.92]\n",
      "[184.47429] [185.4]\n",
      "[183.55316] [187.97]\n",
      "[184.56679] [190.58]\n",
      "[187.02463] [190.35]\n",
      "[189.84987] [187.88]\n",
      "[189.45685] [191.03]\n",
      "[187.75253] [191.33]\n",
      "[189.27318] [190.91]\n",
      "[190.15463] [191.45]\n",
      "[189.79819] [190.4]\n",
      "[189.45952] [191.88]\n",
      "[189.33365] [191.44]\n",
      "[189.81917] [191.61]\n",
      "[189.90721] [193.]\n",
      "[190.2865] [194.82]\n",
      "[191.6035] [194.21]\n",
      "[192.92456] [190.98]\n",
      "[191.85178] [189.91]\n",
      "[189.35565] [190.29]\n",
      "[188.81642] [201.5]\n",
      "[192.53322] [207.39]\n",
      "[200.9331] [207.99]\n",
      "[213.11932] [209.07]\n",
      "[212.71674] [207.11]\n",
      "[212.05972] [207.25]\n",
      "[210.68806] [208.88]\n",
      "[207.42314] [207.53]\n",
      "[207.55275] [208.87]\n",
      "[205.93597] [209.75]\n",
      "[206.44296] [210.24]\n",
      "[207.29214] [213.32]\n",
      "[208.59279] [217.58]\n",
      "[211.57916] [215.46]\n",
      "[216.89842] [215.04]\n",
      "[214.48706] [215.05]\n",
      "[212.84149] [215.49]\n",
      "[212.63432] [216.16]\n",
      "[213.00333] [217.94]\n",
      "[213.82986] [219.7]\n",
      "[215.43756] [222.98]\n",
      "[217.58241] [225.03]\n",
      "[220.93633] [227.63]\n",
      "[224.4602] [228.36]\n",
      "[228.19984] [226.87]\n",
      "[228.25873] [223.1]\n",
      "[224.26167] [221.3]\n",
      "[220.17789] [218.33]\n",
      "[218.0811] [223.85]\n",
      "[220.25748] [221.07]\n",
      "[219.59332] [226.41]\n",
      "[221.25911] [223.84]\n",
      "[221.54282] [217.88]\n",
      "[218.95424] [218.24]\n",
      "[216.96303] [218.37]\n",
      "[216.76958] [220.03]\n",
      "[217.33482] [217.66]\n",
      "[216.2731] [220.79]\n",
      "[217.24257] [222.19]\n",
      "[217.94473] [220.42]\n",
      "[218.44977] [224.95]\n",
      "[219.22586] [225.74]\n",
      "[221.64935] [227.26]\n",
      "[223.72256] [229.28]\n",
      "[225.2077] [232.07]\n",
      "[227.52003] [227.99]\n",
      "[230.56607] [224.29]\n",
      "[224.77997] [223.77]\n",
      "[222.06117] [226.87]\n",
      "[222.92984] [216.36]\n",
      "[218.98294] [214.45]\n",
      "[216.29538] [222.11]\n",
      "[221.89453] [217.36]\n",
      "[220.15662] [222.15]\n",
      "[218.81194] [221.19]\n",
      "[218.42593] [216.02]\n",
      "[216.35335] [219.31]\n",
      "[215.97925] [220.65]\n",
      "[217.02303] [222.73]\n",
      "[218.25696] [215.09]\n",
      "[217.2398] [219.8]\n",
      "[216.05861] [216.3]\n",
      "[214.93074] [212.24]\n",
      "[212.7547] [213.3]\n",
      "[212.43988] [218.86]\n",
      "[214.89487] [222.22]\n",
      "[216.5538] [207.48]\n",
      "[214.56308] [201.59]\n",
      "[206.07501] [203.77]\n",
      "[206.35168] [209.95]\n",
      "[211.11536] [208.49]\n",
      "[209.7237] [204.47]\n",
      "[204.80655] [194.17]\n",
      "[199.55708] [192.23]\n",
      "[196.56232] [186.8]\n",
      "[190.3485] [191.41]\n",
      "[195.71428] [193.53]\n",
      "[196.11497] [185.86]\n",
      "[189.4292] [176.98]\n",
      "[184.63254] [176.78]\n",
      "[180.97525] [172.29]\n",
      "[174.14404] [174.62]\n",
      "[177.48001] [174.24]\n",
      "[176.79971] [180.94]\n",
      "[180.26965] [179.55]\n",
      "[179.32353] [178.58]\n",
      "[178.35298] [184.82]\n",
      "[179.57462] [176.69]\n",
      "[184.45789] [174.72]\n",
      "[176.56662] [168.49]\n",
      "[171.48717] [169.6]\n",
      "[171.36893] [168.63]\n",
      "[171.31018] [169.1]\n",
      "[171.44243] [170.95]\n",
      "[171.43393] [165.48]\n",
      "[167.90152] [163.94]\n",
      "[166.14069] [166.07]\n",
      "[166.33582] [160.89]\n",
      "[163.5375] [156.83]\n",
      "[160.40457] [150.73]\n",
      "[155.60364] [146.83]\n",
      "[151.14842] [157.17]\n",
      "[157.44043] [156.15]\n",
      "[146.38509] [156.23]\n",
      "[156.74902] [157.74]\n",
      "[156.76712] [157.92]\n",
      "[157.7226] [142.19]\n",
      "[152.14879] [148.26]\n",
      "[149.16437] [147.93]\n",
      "[148.94415] [150.75]\n",
      "[150.73528] [153.31]\n",
      "[152.677] [153.8]\n",
      "[153.55338] [152.29]\n",
      "[154.05911] [150.]\n",
      "[152.50287] [153.07]\n",
      "[151.72655] [154.94]\n",
      "[153.82782] [155.86]\n",
      "[156.2609] [156.82]\n",
      "[157.63403] [153.3]\n",
      "[157.40201] [153.92]\n",
      "[154.31995] [152.7]\n",
      "[153.58083] [157.76]\n",
      "[154.5883] [156.3]\n",
      "[157.385] [154.68]\n",
      "[156.72723] [165.25]\n",
      "[157.77138] [166.44]\n",
      "[167.62698] [166.52]\n",
      "[170.68976] [171.25]\n",
      "[171.12193] [174.18]\n",
      "[173.69885] [174.24]\n",
      "[172.57854] [170.94]\n",
      "[174.80959] [170.41]\n",
      "[173.84448] [169.43]\n",
      "[170.13878] [170.89]\n",
      "[169.35316] [170.18]\n",
      "[169.66643] [170.8]\n",
      "[169.71573] [170.42]\n",
      "[169.75998] [170.93]\n",
      "[169.93558] [172.03]\n",
      "[170.53696] [171.06]\n",
      "[170.95874] [172.97]\n",
      "[171.15134] [174.23]\n",
      "[172.47829] [174.33]\n",
      "[173.8694] [174.87]\n",
      "[174.30775] [173.15]\n",
      "[174.06567] [174.97]\n",
      "[173.23837] [175.85]\n",
      "[174.21266] [175.53]\n",
      "[175.08676] [174.52]\n",
      "[174.61345] [172.5]\n",
      "[173.02467] [172.91]\n",
      "[172.13159] [178.9]\n",
      "[174.25154] [180.91]\n",
      "[178.00351] [181.71]\n",
      "[182.41635] [183.73]\n",
      "[183.69308] [186.12]\n",
      "[186.24315] [188.02]\n",
      "[190.00798] [186.53]\n",
      "[192.18414] [188.16]\n",
      "[188.91467] [195.09]\n",
      "[189.48975] [191.05]\n",
      "[198.36957] [188.74]\n",
      "[192.4381] [186.79]\n",
      "[187.13138] [188.47]\n",
      "[186.18825] [188.72]\n",
      "[186.90872] [189.95]\n",
      "[187.56079] [191.24]\n",
      "[188.48909] [194.02]\n",
      "[190.14523] [195.35]\n",
      "[192.7066] [195.69]\n",
      "[195.11072] [197.]\n",
      "[195.82121] [200.1]\n",
      "[197.20007] [199.5]\n",
      "[200.63628] [200.62]\n",
      "[199.80434] [198.95]\n",
      "[199.45078] [198.87]\n",
      "[197.4979] [199.23]\n",
      "[197.00085] [199.25]\n",
      "[197.11661] [203.13]\n",
      "[198.40567] [203.86]\n",
      "[200.72913] [204.53]\n",
      "[202.34747] [207.48]\n",
      "[203.5346] [207.16]\n",
      "[206.22601] [205.28]\n",
      "[206.03519] [204.3]\n",
      "[203.32668] [204.61]\n",
      "[202.29161] [200.67]\n",
      "[200.8274] [210.52]\n",
      "[203.43713] [209.15]\n",
      "[206.03859] [211.75]\n",
      "[208.30573] [208.48]\n",
      "[209.23497] [202.86]\n",
      "[205.03432] [202.9]\n",
      "[201.87082] [200.72]\n",
      "[200.69327] [197.18]\n",
      "[198.6341] [185.72]\n",
      "[192.53671] [188.66]\n",
      "[193.08604] [190.92]\n",
      "[193.29924] [190.08]\n",
      "[193.48688] [189.]\n",
      "[190.6572] [183.09]\n",
      "[185.8853] [186.6]\n",
      "[186.76044] [182.78]\n",
      "[184.93903] [179.66]\n",
      "[181.80869] [178.97]\n",
      "[180.25456] [178.23]\n",
      "[180.23293] [177.38]\n",
      "[179.17854] [178.3]\n",
      "[178.94708] [175.07]\n",
      "[176.4523] [173.3]\n",
      "[174.4888] [179.64]\n",
      "[177.18735] [182.54]\n",
      "[178.93735] [185.22]\n",
      "[182.87744] [190.15]\n",
      "[187.98126] [192.58]\n",
      "[194.24638] [194.81]\n",
      "[196.74046] [194.19]\n",
      "[195.80196] [194.15]\n",
      "[197.4535] [192.74]\n",
      "[196.90805] [193.89]\n",
      "[192.31415] [198.45]\n",
      "[193.21439] [197.87]\n",
      "[196.95859] [199.46]\n",
      "[197.40414] [198.78]\n",
      "[197.97858] [198.58]\n",
      "[197.34854] [195.57]\n",
      "[196.00279] [199.8]\n",
      "[195.5488] [199.74]\n",
      "[197.03023] [197.92]\n",
      "[197.25105] [201.55]\n",
      "[197.41473] [202.73]\n",
      "[199.175] [204.41]\n",
      "[201.34145] [204.23]\n",
      "[202.95703] [200.02]\n",
      "[201.95576] [201.24]\n",
      "[198.93634] [203.23]\n",
      "[199.69168] [201.75]\n",
      "[200.26582] [203.3]\n",
      "[200.35498] [205.21]\n",
      "[201.41455] [204.5]\n",
      "[202.44283] [203.35]\n",
      "[202.09195] [205.66]\n",
      "[202.08714] [202.59]\n",
      "[202.11453] [207.22]\n",
      "[202.42322] [208.84]\n",
      "[204.5863] [208.67]\n",
      "[206.8714] [207.02]\n",
      "[206.43013] [207.74]\n",
      "[205.18777] [209.68]\n",
      "[205.79701] [208.78]\n",
      "[206.8229] [213.04]\n",
      "[207.75214] [208.43]\n",
      "[209.29182] [204.02]\n",
      "[205.06506] [193.34]\n",
      "[198.65807] [197.]\n",
      "[199.38962] [199.04]\n",
      "[202.26147] [203.43]\n",
      "[203.60973] [200.99]\n",
      "[200.05437] [200.48]\n",
      "[198.92038] [208.97]\n",
      "[201.5006] [202.75]\n",
      "[205.40878] [201.74]\n",
      "[202.11508] [206.5]\n",
      "[200.93723] [210.35]\n",
      "[204.40424] [210.36]\n",
      "[209.50395] [212.64]\n",
      "[210.0406] [212.46]\n",
      "[212.42221] [202.64]\n",
      "[209.6099] [206.49]\n",
      "[203.98529] [204.16]\n",
      "[203.13855] [205.53]\n",
      "[203.61209] [209.01]\n",
      "[205.36261] [208.74]\n",
      "[205.96033] [205.7]\n",
      "[205.12541] [209.19]\n",
      "[205.24503] [213.28]\n",
      "[207.3263] [213.26]\n",
      "[211.5053] [214.17]\n",
      "[212.2808] [216.7]\n",
      "[213.0512] [223.59]\n",
      "[216.26175] [223.085]\n",
      "[227.58102] [218.75]\n",
      "[227.1098] [219.9]\n",
      "[217.73848] [220.7]\n",
      "[217.06487] [222.77]\n",
      "[218.32385] [220.96]\n",
      "[219.17462] [217.73]\n",
      "[217.35121] [218.72]\n",
      "[216.20554] [217.68]\n",
      "[215.99893] [221.03]\n",
      "[217.15182] [219.89]\n",
      "[217.29875] [218.82]\n",
      "[216.88763] [223.97]\n",
      "[218.01367] [224.59]\n",
      "[220.28511] [218.96]\n",
      "[220.79402] [220.82]\n",
      "[217.67792] [227.01]\n",
      "[219.51318] [227.06]\n",
      "[223.26942] [224.4]\n",
      "[224.23944] [227.03]\n",
      "[222.54472] [230.09]\n",
      "[224.15274] [236.21]\n",
      "[228.00645] [235.87]\n",
      "[236.89183] [235.32]\n",
      "[237.51819] [234.37]\n",
      "[233.43488] [235.28]\n",
      "[231.54071] [236.41]\n",
      "[232.07922] [240.51]\n",
      "[233.62413] [239.96]\n",
      "[236.79074] [243.18]\n",
      "[237.4673] [243.58]\n",
      "[239.58694] [246.58]\n",
      "[240.94722] [249.05]\n",
      "[243.87617] [243.29]\n",
      "[246.27902] [243.26]\n",
      "[240.60443] [248.76]\n",
      "[241.15974] [255.82]\n",
      "[245.1716] [257.5]\n",
      "[253.81143] [257.13]\n",
      "[257.61084] [257.24]\n",
      "[255.27708] [259.43]\n",
      "[253.90923] [260.14]\n",
      "[255.50066] [262.2]\n",
      "[256.48907] [261.96]\n",
      "[257.9445] [264.47]\n",
      "[258.20554] [262.64]\n",
      "[259.4181] [265.76]\n",
      "[259.33453] [267.1]\n",
      "[261.00104] [266.29]\n",
      "[262.38477] [263.19]\n",
      "[261.47766] [262.01]\n",
      "[259.77637] [261.78]\n",
      "[259.43335] [266.37]\n",
      "[260.6918] [264.29]\n",
      "[261.27155] [267.84]\n",
      "[261.90393] [267.25]\n",
      "[262.85852] [264.16]\n",
      "[262.32944] [259.45]\n",
      "[259.65155] [261.74]\n",
      "[259.09705] [265.58]\n",
      "[260.48358] [270.71]\n",
      "[262.5407] [266.92]\n",
      "[264.8447] [268.48]\n",
      "[263.54984] [270.77]\n",
      "[264.1591] [271.46]\n",
      "[265.90903] [275.15]\n",
      "[267.2586] [279.86]\n",
      "[270.4803] [280.41]\n",
      "[276.4629] [279.74]\n",
      "[276.45355] [280.02]\n",
      "[274.88702] [279.44]\n",
      "[274.76498] [284.]\n",
      "[275.2712] [284.27]\n",
      "[278.01556] [289.91]\n",
      "[279.9556] [289.8]\n",
      "[284.05325] [291.52]\n",
      "[284.93842] [293.65]\n",
      "[286.01868] [300.35]\n",
      "[288.39233] [297.43]\n",
      "[297.40268] [299.8]\n",
      "[292.62527] [298.39]\n",
      "[293.24884] [303.19]\n",
      "[293.38867] [309.63]\n",
      "[296.79626] [310.33]\n",
      "[304.10938] [316.96]\n",
      "[305.8144] [312.68]\n",
      "[315.16602] [311.34]\n",
      "[306.83087] [315.24]\n",
      "[305.16434] [318.73]\n",
      "[308.04333] [316.57]\n",
      "[311.458] [317.7]\n",
      "[310.89865] [319.23]\n",
      "[311.98575] [318.31]\n",
      "[313.0117] [308.95]\n",
      "[311.5201] [317.69]\n",
      "[311.71506] [324.34]\n",
      "[313.36334] [323.87]\n",
      "[317.30035] [309.51]\n",
      "[315.33975] [308.66]\n",
      "[310.09155] [318.85]\n",
      "[312.97565] [321.45]\n",
      "[313.63696] [325.21]\n",
      "[316.06805] [320.03]\n",
      "[317.44537] [321.55]\n",
      "[315.63248] [319.61]\n",
      "[315.4307] [327.2]\n",
      "[316.14816] [324.87]\n",
      "[318.5558] [324.95]\n",
      "[319.1235] [319.]\n",
      "[318.70667] [323.62]\n"
     ]
    },
    {
     "name": "stdout",
     "output_type": "stream",
     "text": [
      "[318.59924] [320.3]\n",
      "[318.75726] [313.05]\n",
      "[315.39215] [298.18]\n",
      "[307.5944] [288.08]\n",
      "[297.19855] [292.65]\n",
      "[299.44656] [273.52]\n",
      "[274.4346] [273.36]\n"
     ]
    }
   ],
   "source": [
    "predict_x=model.predict(X_test) \n",
    "for i in range(predict_x.shape[0]):\n",
    "    print(predict_x[i], y_test[i])"
   ]
  },
  {
   "cell_type": "code",
   "execution_count": 69,
   "metadata": {
    "id": "FoI5wZR1-HXl"
   },
   "outputs": [],
   "source": [
    "from sklearn.metrics import r2_score"
   ]
  },
  {
   "cell_type": "code",
   "execution_count": 70,
   "metadata": {
    "colab": {
     "base_uri": "https://localhost:8080/"
    },
    "executionInfo": {
     "elapsed": 26,
     "status": "ok",
     "timestamp": 1684871185294,
     "user": {
      "displayName": "AMRITHA P P",
      "userId": "01855715462093467271"
     },
     "user_tz": -330
    },
    "id": "xoBmhTV2CwBT",
    "outputId": "74edce8c-d930-4072-de81-d7b170157a8a"
   },
   "outputs": [
    {
     "data": {
      "text/plain": [
       "0.9812459626873973"
      ]
     },
     "execution_count": 70,
     "metadata": {},
     "output_type": "execute_result"
    }
   ],
   "source": [
    "r2_score(predict_x, y_test)"
   ]
  },
  {
   "cell_type": "code",
   "execution_count": 71,
   "metadata": {
    "id": "ao9_TxosC2cC"
   },
   "outputs": [],
   "source": [
    "test = pd.DataFrame(y_test)\n",
    "test['pred'] = predict_x"
   ]
  },
  {
   "cell_type": "code",
   "execution_count": 72,
   "metadata": {
    "colab": {
     "base_uri": "https://localhost:8080/",
     "height": 423
    },
    "executionInfo": {
     "elapsed": 32,
     "status": "ok",
     "timestamp": 1684871331799,
     "user": {
      "displayName": "AMRITHA P P",
      "userId": "01855715462093467271"
     },
     "user_tz": -330
    },
    "id": "BY8LRKTjDSME",
    "outputId": "19d3fed6-d516-4337-c1e3-782ea9a0165b"
   },
   "outputs": [
    {
     "data": {
      "text/html": [
       "<div>\n",
       "<style scoped>\n",
       "    .dataframe tbody tr th:only-of-type {\n",
       "        vertical-align: middle;\n",
       "    }\n",
       "\n",
       "    .dataframe tbody tr th {\n",
       "        vertical-align: top;\n",
       "    }\n",
       "\n",
       "    .dataframe thead th {\n",
       "        text-align: right;\n",
       "    }\n",
       "</style>\n",
       "<table border=\"1\" class=\"dataframe\">\n",
       "  <thead>\n",
       "    <tr style=\"text-align: right;\">\n",
       "      <th></th>\n",
       "      <th>actual</th>\n",
       "      <th>predicted</th>\n",
       "    </tr>\n",
       "  </thead>\n",
       "  <tbody>\n",
       "    <tr>\n",
       "      <th>0</th>\n",
       "      <td>178.12</td>\n",
       "      <td>181.946228</td>\n",
       "    </tr>\n",
       "    <tr>\n",
       "      <th>1</th>\n",
       "      <td>175.00</td>\n",
       "      <td>180.481323</td>\n",
       "    </tr>\n",
       "    <tr>\n",
       "      <th>2</th>\n",
       "      <td>176.21</td>\n",
       "      <td>177.868073</td>\n",
       "    </tr>\n",
       "    <tr>\n",
       "      <th>3</th>\n",
       "      <td>176.82</td>\n",
       "      <td>175.055969</td>\n",
       "    </tr>\n",
       "    <tr>\n",
       "      <th>4</th>\n",
       "      <td>176.67</td>\n",
       "      <td>175.245804</td>\n",
       "    </tr>\n",
       "    <tr>\n",
       "      <th>...</th>\n",
       "      <td>...</td>\n",
       "      <td>...</td>\n",
       "    </tr>\n",
       "    <tr>\n",
       "      <th>499</th>\n",
       "      <td>298.18</td>\n",
       "      <td>315.392151</td>\n",
       "    </tr>\n",
       "    <tr>\n",
       "      <th>500</th>\n",
       "      <td>288.08</td>\n",
       "      <td>307.594391</td>\n",
       "    </tr>\n",
       "    <tr>\n",
       "      <th>501</th>\n",
       "      <td>292.65</td>\n",
       "      <td>297.198547</td>\n",
       "    </tr>\n",
       "    <tr>\n",
       "      <th>502</th>\n",
       "      <td>273.52</td>\n",
       "      <td>299.446564</td>\n",
       "    </tr>\n",
       "    <tr>\n",
       "      <th>503</th>\n",
       "      <td>273.36</td>\n",
       "      <td>274.434601</td>\n",
       "    </tr>\n",
       "  </tbody>\n",
       "</table>\n",
       "<p>504 rows × 2 columns</p>\n",
       "</div>"
      ],
      "text/plain": [
       "     actual   predicted\n",
       "0    178.12  181.946228\n",
       "1    175.00  180.481323\n",
       "2    176.21  177.868073\n",
       "3    176.82  175.055969\n",
       "4    176.67  175.245804\n",
       "..      ...         ...\n",
       "499  298.18  315.392151\n",
       "500  288.08  307.594391\n",
       "501  292.65  297.198547\n",
       "502  273.52  299.446564\n",
       "503  273.36  274.434601\n",
       "\n",
       "[504 rows x 2 columns]"
      ]
     },
     "execution_count": 72,
     "metadata": {},
     "output_type": "execute_result"
    }
   ],
   "source": [
    "test.rename(columns = {0 : 'actual', 'pred' : 'predicted'}, inplace = True)\n",
    "test"
   ]
  },
  {
   "cell_type": "code",
   "execution_count": 73,
   "metadata": {
    "colab": {
     "base_uri": "https://localhost:8080/",
     "height": 447
    },
    "executionInfo": {
     "elapsed": 28,
     "status": "ok",
     "timestamp": 1684871331800,
     "user": {
      "displayName": "AMRITHA P P",
      "userId": "01855715462093467271"
     },
     "user_tz": -330
    },
    "id": "lFu3FBd-Dc1R",
    "outputId": "1a0907c1-7272-4dbe-c52d-34ff2fe94699"
   },
   "outputs": [
    {
     "data": {
      "text/plain": [
       "<AxesSubplot:>"
      ]
     },
     "execution_count": 73,
     "metadata": {},
     "output_type": "execute_result"
    },
    {
     "data": {
      "image/png": "[encoded data removed]",
      "text/plain": [
       "<Figure size 640x480 with 1 Axes>"
      ]
     },
     "metadata": {},
     "output_type": "display_data"
    }
   ],
   "source": [
    "test.plot()"
   ]
  },
  {
   "cell_type": "code",
   "execution_count": 74,
   "metadata": {
    "id": "PgiFVCoADfDb"
   },
   "outputs": [
    {
     "name": "stdout",
     "output_type": "stream",
     "text": [
      "Keras weights file (<HDF5 file \"variables.h5\" (mode r+)>) saving:\n",
      "...layers\\dense\n",
      "......vars\n",
      ".........0\n",
      ".........1\n",
      "...layers\\dense_1\n",
      "......vars\n",
      ".........0\n",
      ".........1\n",
      "...layers\\dense_2\n",
      "......vars\n",
      ".........0\n",
      ".........1\n",
      "...layers\\lstm\n",
      "......vars\n",
      "...layers\\lstm\\cell\n",
      "......vars\n",
      ".........0\n",
      ".........1\n",
      ".........2\n",
      "...layers\\lstm_1\n",
      "......vars\n",
      "...layers\\lstm_1\\cell\n",
      "......vars\n",
      ".........0\n",
      ".........1\n",
      ".........2\n",
      "...metrics\\mean\n",
      "......vars\n",
      ".........0\n",
      ".........1\n",
      "...metrics\\mean_metric_wrapper\n",
      "......vars\n",
      ".........0\n",
      ".........1\n",
      "...optimizer\n",
      "......vars\n",
      ".........0\n",
      ".........1\n",
      ".........10\n",
      ".........11\n",
      ".........12\n",
      ".........13\n",
      ".........14\n",
      ".........15\n",
      ".........16\n",
      ".........17\n",
      ".........18\n",
      ".........19\n",
      ".........2\n",
      ".........20\n",
      ".........21\n",
      ".........22\n",
      ".........23\n",
      ".........24\n",
      ".........3\n",
      ".........4\n",
      ".........5\n",
      ".........6\n",
      ".........7\n",
      ".........8\n",
      ".........9\n",
      "...vars\n",
      "Keras model archive saving:\n",
      "File Name                                             Modified             Size\n",
      "config.json                                    2023-05-25 00:23:19         3484\n",
      "metadata.json                                  2023-05-25 00:23:19           64\n",
      "variables.h5                                   2023-05-25 00:23:19       467784\n"
     ]
    }
   ],
   "source": [
    "filename = 'model_pickle_apple_lstm.sav'\n",
    "pickle.dump(model, open(filename, 'wb'))"
   ]
  },
  {
   "cell_type": "code",
   "execution_count": 75,
   "metadata": {
    "id": "2ePIyhHJX21-"
   },
   "outputs": [
    {
     "data": {
      "text/plain": [
       "array([[324.87],\n",
       "       [324.95],\n",
       "       [319.  ],\n",
       "       [323.62],\n",
       "       [320.3 ],\n",
       "       [313.05],\n",
       "       [298.18],\n",
       "       [288.08],\n",
       "       [292.65],\n",
       "       [273.52]])"
      ]
     },
     "execution_count": 75,
     "metadata": {},
     "output_type": "execute_result"
    }
   ],
   "source": [
    "new = X_test[-1]\n",
    "final = y_test[-1]\n",
    "np.append(new, final)\n",
    "new"
   ]
  },
  {
   "cell_type": "code",
   "execution_count": 76,
   "metadata": {},
   "outputs": [
    {
     "name": "stdout",
     "output_type": "stream",
     "text": [
      "1/1 [==============================] - 0s 38ms/step\n",
      "1/1 [==============================] - 0s 39ms/step\n",
      "1/1 [==============================] - 0s 42ms/step\n",
      "1/1 [==============================] - 0s 46ms/step\n",
      "1/1 [==============================] - 0s 32ms/step\n",
      "1/1 [==============================] - 0s 31ms/step\n",
      "1/1 [==============================] - 0s 30ms/step\n",
      "1/1 [==============================] - 0s 40ms/step\n",
      "1/1 [==============================] - 0s 30ms/step\n",
      "1/1 [==============================] - 0s 32ms/step\n",
      "1/1 [==============================] - 0s 39ms/step\n",
      "1/1 [==============================] - 0s 26ms/step\n",
      "1/1 [==============================] - 0s 43ms/step\n",
      "1/1 [==============================] - 0s 40ms/step\n",
      "1/1 [==============================] - 0s 44ms/step\n",
      "1/1 [==============================] - 0s 45ms/step\n",
      "1/1 [==============================] - 0s 35ms/step\n",
      "1/1 [==============================] - 0s 30ms/step\n",
      "1/1 [==============================] - 0s 47ms/step\n",
      "1/1 [==============================] - 0s 41ms/step\n",
      "1/1 [==============================] - 0s 31ms/step\n",
      "1/1 [==============================] - 0s 35ms/step\n",
      "1/1 [==============================] - 0s 40ms/step\n",
      "1/1 [==============================] - 0s 38ms/step\n",
      "1/1 [==============================] - 0s 41ms/step\n",
      "1/1 [==============================] - 0s 46ms/step\n",
      "1/1 [==============================] - 0s 34ms/step\n",
      "1/1 [==============================] - 0s 33ms/step\n",
      "1/1 [==============================] - 0s 35ms/step\n",
      "1/1 [==============================] - 0s 51ms/step\n",
      "1/1 [==============================] - 0s 38ms/step\n",
      "1/1 [==============================] - 0s 33ms/step\n",
      "1/1 [==============================] - 0s 29ms/step\n",
      "1/1 [==============================] - 0s 41ms/step\n",
      "1/1 [==============================] - 0s 56ms/step\n",
      "1/1 [==============================] - 0s 45ms/step\n",
      "1/1 [==============================] - 0s 39ms/step\n",
      "1/1 [==============================] - 0s 33ms/step\n",
      "1/1 [==============================] - 0s 73ms/step\n",
      "1/1 [==============================] - 0s 53ms/step\n",
      "1/1 [==============================] - 0s 56ms/step\n",
      "1/1 [==============================] - 0s 37ms/step\n",
      "1/1 [==============================] - 0s 41ms/step\n",
      "1/1 [==============================] - 0s 56ms/step\n",
      "1/1 [==============================] - 0s 75ms/step\n",
      "1/1 [==============================] - 0s 105ms/step\n",
      "1/1 [==============================] - 0s 38ms/step\n",
      "1/1 [==============================] - 0s 44ms/step\n",
      "1/1 [==============================] - 0s 90ms/step\n",
      "1/1 [==============================] - 0s 66ms/step\n"
     ]
    }
   ],
   "source": [
    "predictions = []\n",
    "for i in range(50):\n",
    "    fin = new.reshape(1, 10, 1)\n",
    "    final = model.predict(fin)\n",
    "    for j in final:\n",
    "        new = np.append(new, j)\n",
    "        predictions.append(j)\n",
    "    new = new[1:]"
   ]
  },
  {
   "cell_type": "code",
   "execution_count": 77,
   "metadata": {},
   "outputs": [
    {
     "data": {
      "text/plain": [
       "[array([274.43466], dtype=float32),\n",
       " array([277.16568], dtype=float32),\n",
       " array([269.6235], dtype=float32),\n",
       " array([263.79068], dtype=float32),\n",
       " array([266.48938], dtype=float32),\n",
       " array([276.3282], dtype=float32),\n",
       " array([277.4721], dtype=float32),\n",
       " array([272.6163], dtype=float32),\n",
       " array([271.67563], dtype=float32),\n",
       " array([268.87656], dtype=float32),\n",
       " array([267.3432], dtype=float32),\n",
       " array([266.13693], dtype=float32),\n",
       " array([264.92563], dtype=float32),\n",
       " array([263.8858], dtype=float32),\n",
       " array([262.74194], dtype=float32),\n",
       " array([261.4173], dtype=float32),\n",
       " array([260.23456], dtype=float32),\n",
       " array([258.99442], dtype=float32),\n",
       " array([257.80502], dtype=float32),\n",
       " array([256.58905], dtype=float32),\n",
       " array([255.38097], dtype=float32),\n",
       " array([254.17265], dtype=float32),\n",
       " array([252.95882], dtype=float32),\n",
       " array([251.74783], dtype=float32),\n",
       " array([250.54324], dtype=float32),\n",
       " array([249.33842], dtype=float32),\n",
       " array([248.13875], dtype=float32),\n",
       " array([246.94202], dtype=float32),\n",
       " array([245.7508], dtype=float32),\n",
       " array([244.56403], dtype=float32),\n",
       " array([243.3828], dtype=float32),\n",
       " array([242.20757], dtype=float32),\n",
       " array([241.03835], dtype=float32),\n",
       " array([239.8755], dtype=float32),\n",
       " array([238.71959], dtype=float32),\n",
       " array([237.5707], dtype=float32),\n",
       " array([236.42914], dtype=float32),\n",
       " array([235.29504], dtype=float32),\n",
       " array([234.16869], dtype=float32),\n",
       " array([233.05028], dtype=float32),\n",
       " array([231.93996], dtype=float32),\n",
       " array([230.83783], dtype=float32),\n",
       " array([229.74417], dtype=float32),\n",
       " array([228.65897], dtype=float32),\n",
       " array([227.58232], dtype=float32),\n",
       " array([226.51437], dtype=float32),\n",
       " array([225.4553], dtype=float32),\n",
       " array([224.40509], dtype=float32),\n",
       " array([223.36383], dtype=float32),\n",
       " array([222.3316], dtype=float32)]"
      ]
     },
     "execution_count": 77,
     "metadata": {},
     "output_type": "execute_result"
    }
   ],
   "source": [
    "predictions"
   ]
  },
  {
   "cell_type": "code",
   "execution_count": 78,
   "metadata": {},
   "outputs": [],
   "source": [
    "x = [i+data['Close'].shape[0] for i in range(50)]"
   ]
  },
  {
   "cell_type": "code",
   "execution_count": 79,
   "metadata": {},
   "outputs": [
    {
     "data": {
      "text/plain": [
       "[<matplotlib.lines.Line2D at 0x17046403070>]"
      ]
     },
     "execution_count": 79,
     "metadata": {},
     "output_type": "execute_result"
    },
    {
     "data": {
      "image/png": "[encoded data removed]",
      "text/plain": [
       "<Figure size 640x480 with 1 Axes>"
      ]
     },
     "metadata": {},
     "output_type": "display_data"
    }
   ],
   "source": [
    "plt.plot(x,predictions)"
   ]
  },
  {
   "cell_type": "code",
   "execution_count": null,
   "metadata": {},
   "outputs": [],
   "source": []
  }
 ],
 "metadata": {
  "accelerator": "GPU",
  "colab": {
   "authorship_tag": "ABX9TyP4Tmy/SK7EieWhpOuC+QXY",
   "gpuType": "T4",
   "mount_file_id": "1VJkcyAkQhpqKwepWf7wfYsbCefF7U8eL",
   "provenance": []
  },
  "gpuClass": "standard",
  "kernelspec": {
   "display_name": "Python 3 (ipykernel)",
   "language": "python",
   "name": "python3"
  },
  "language_info": {
   "codemirror_mode": {
    "name": "ipython",
    "version": 3
   },
   "file_extension": ".py",
   "mimetype": "text/x-python",
   "name": "python",
   "nbconvert_exporter": "python",
   "pygments_lexer": "ipython3",
   "version": "3.9.13"
  }
 },
 "nbformat": 4,
 "nbformat_minor": 1
}
